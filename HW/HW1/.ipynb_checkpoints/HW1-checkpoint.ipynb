{
 "cells": [
  {
   "cell_type": "markdown",
   "metadata": {},
   "source": [
    "# Computational Science (SC3131011)  Spring 2019,  Homework 1:\n",
    "## Duedate  Feb 7, 11:59 pm  via google classroom \n",
    "\n",
    "\n",
    " ชื่อ:\n",
    "\n",
    "\n",
    " รหัสนักศึกษา:\n",
    "\n",
    "\n",
    " Section: \n",
    "\n",
    "\n"
   ]
  },
  {
   "cell_type": "markdown",
   "metadata": {},
   "source": [
    "## 1) (5 pts ) เขียนโปรแกรม Python เพื่อคำนวณหาจำนวนเงินที่ได้จากธนาคารหลังฝากทิ้งไว้ เป็นจำนวน $n$ ปี (excercise 1.6)\n",
    "กำหนดให้ $x_0$ = จำนวนเงินฝากตั้งต้น\n",
    "\n",
    "หลังจากผ่านไป $n$ ปี $$x_n = x_0(1+ \\frac{อัตราดอกเบี้ย}{100})^n$$ \n",
    "\n",
    "เขียน โปรแกรม Python เพื่อคำนวณหาค่า เงินที่จะได้รับ หลังจากผ่านไป $n$ ปี\n",
    "\n",
    "ถ้าค่าเงินตั้งต้นคือ  1000 บาท ธนาคารให้ดอกเบี้ยร้อยละ 5 ต่อปี หลังจากสามปีผ่านไป เราจะมีเงินในธนาคารเท่าไหร่ \n"
   ]
  },
  {
   "cell_type": "code",
   "execution_count": 1,
   "metadata": {},
   "outputs": [],
   "source": [
    "# เขียนโค้ดสำหรับ โจทย์ข้อที่ 1 \n",
    "\n",
    "\n"
   ]
  },
  {
   "cell_type": "markdown",
   "metadata": {},
   "source": [
    "หลังจากสามปีผ่านไป เราจะมีเงินในธนาคาร = "
   ]
  },
  {
   "cell_type": "markdown",
   "metadata": {},
   "source": [
    "## 2) (20 pts) The bell-shaped Gaussian function (modified from excercise 1.10)\n",
    "สมการของ normal distribution หรือ Gaussian function สามารถเขียนให้อยู่ในรูปของ \n",
    "\n",
    "$$  f(x,m,\\sigma) = \\frac{1}{\\sigma\\sqrt{2\\pi }  }   e^{  \\frac{-(x-m)^2}{2\\sigma}  } $$\n",
    "\n",
    "https://en.wikipedia.org/wiki/Normal_distribution\n",
    "\n",
    "ให้นักศึกษาเขียนโค้ด Python เพื่อทำการ plot กราฟของ gaussian distribution \n",
    "โดยกำหนดให้ ค่าโดเมนของ $x$ มีค่าตั้งแต่ -100 ถึง 100 นักศึกษาสามารถเลือกจำนวนของช่วงภายใน -100 ถึง 100 ได้ตามความเหมาะสม \n",
    "\n",
    "### 2.1 ทำการ plot Gaussian distribution เมื่อ $m = 0 , \\ \\sigma = 10$   และ    $ m =0 , \\ \\sigma = 5$ ลงบนกราฟเดียวกัน \n"
   ]
  },
  {
   "cell_type": "code",
   "execution_count": 2,
   "metadata": {},
   "outputs": [],
   "source": [
    "#เขียน function f(x,m,s) \n",
    "\n",
    "\n",
    "\n",
    "# สร้าง array ของโดเมน x \n",
    "\n",
    "\n",
    "\n",
    "# คำนวณหาค่า f(x,m,s)\n",
    "\n",
    "\n",
    "\n",
    "# เขียนโค้ดเพื่อทำการ Plot กราฟ  และแสดงผลของกราฟ \n",
    "# m = 0, s = 10 \n",
    "# m = 10, s = 5\n",
    "\n",
    "\n",
    "\n"
   ]
  },
  {
   "cell_type": "markdown",
   "metadata": {},
   "source": [
    "### 2.2 เขียนโค้ดเพื่อทำการ integrate พื้นที่ใต้กราฟของ gausian distribution $N(m=0,  \\sigma =10)$  จาก  -10 ถึง 10   โดยอาศัยวิธีการประมาณพื้นที่ใต้กราฟโดยอาศัย Mid point Trapezoidal rule นักศึกษาสามารถกำหนดค่า N ได้ตามความเหมาะสม\n",
    "\n",
    "Midpoint Trapezoidal rule (Text book หน้า 132) คือการแบ่งพื้นที่ใต้กราฟออกเป็นพื้นที่สี่เหลี่ยมพืนผ้าขนาดความกว้าง $h$ เท่ากัน โดยให้ความสูงของรูปสี่เหลี่ยมย่อยลำดับที่ $i$ เป็น $f(a + ih + \\frac{h}{2})$  เมื่อ $a$ คือค่าเริ่มต้นของช่วงการ integrate ดังนั้นเราสามารถประมาณค่าพื้นที่ใต้กราฟได้ดังนี้\n",
    "\n",
    "### Mid point Trapezoidal rule\n",
    "\n",
    "$$  \\int_{a}^{b} f(x) dx \\approx h \\sum_{i=0}^{N-1} f(a+ ih + \\frac{h}{2}) $$ \n",
    "\n",
    "------------------------------------------------------------------------------\n",
    "------------------------------------------------------------------------------\n",
    "ทบทวนสมการสำหรับสองวิธีที่เราเคยเห็นใน Lab และในชั้นเรียน\n",
    "\n",
    "Trapezoidal rule\n",
    "$$  \\int_{a}^{b} f(x) dx \\approx \\sum_{k=1}^{N} \\frac{f(x_{k-1}) + f(x_k)}{2} (\\delta x_k) $$ \n",
    "\n",
    "Simpson's rule  ( N ต้องเป็นจำนวนคู่)\n",
    "$$   \\int_{a}^{b} f(x) dx \\approx  \\frac{b-a}{3N} \\bigg ( f(a) + f(b) + 4\\sum_{n=1}^{N/2} f(a+ (2n-1)h) +  2\\sum_{n=1}^{N/2 -1} f(a+ 2nh)  \\bigg ) $$\n",
    "\n",
    "$$ h = \\frac{b-a}{N} $$\n",
    "\n"
   ]
  },
  {
   "cell_type": "code",
   "execution_count": 3,
   "metadata": {},
   "outputs": [],
   "source": [
    "#Implement code ของนักศึกษาที่นี่  เขียนโค้ดเพื่อทำการ integrate พื้นที่ใต้กราฟของ\n",
    "#gausian distribution  N(m=0,σ=10)N(m=0,σ=10)  จาก -10 ถึง 10\n",
    "#โดยอาศัยวิธีการประมาณพื้นที่ใต้กราฟโดยอาศัย Mid point Trapezoidal rule\n",
    "\n",
    "\n",
    "\n",
    "\n",
    "\n"
   ]
  },
  {
   "cell_type": "markdown",
   "metadata": {},
   "source": [
    "ผลลัพท์ที่ได้คือ พื้นที่ = ........"
   ]
  },
  {
   "cell_type": "markdown",
   "metadata": {},
   "source": [
    "## 3) (5 pts) หา Errors ใน code ที่กำหนดให้ต่อ ไปนี้และทำการแก้ไข ให้รันได้อย่างถูกต้อง (from excercise 1.17) \n",
    "\n",
    "กำหนดให้ quadratic equation \n",
    "\n",
    "$$ ax^2 + bx + c = 0 $$\n",
    "\n",
    "ค่ารากของสมการสามารถหาได้จาก \n",
    "\n",
    "$$ x_1 = \\frac{-b + \\sqrt{b^2 - 4ac} }{ 2a}  $$ \n",
    "\n",
    "และ \n",
    "\n",
    "$$ x_2 =\\frac{-b - \\sqrt{b^2 - 4ac} }{ 2a}  $$ \n",
    "\n",
    "จงอธิบายว่าปัญหาที่เกิดจาก โค้ดในการหารากของสมการ quadratic ที่กำหนดให้คืออะไร  และทำการแก้ไขโค้ดให้ run ได้อย่างถูกต้อง\n"
   ]
  },
  {
   "cell_type": "code",
   "execution_count": 4,
   "metadata": {
    "scrolled": true
   },
   "outputs": [
    {
     "ename": "ValueError",
     "evalue": "math domain error",
     "output_type": "error",
     "traceback": [
      "\u001b[1;31m---------------------------------------------------------------------------\u001b[0m",
      "\u001b[1;31mValueError\u001b[0m                                Traceback (most recent call last)",
      "\u001b[1;32m<ipython-input-4-776c6c1997c7>\u001b[0m in \u001b[0;36m<module>\u001b[1;34m()\u001b[0m\n\u001b[0;32m      2\u001b[0m \u001b[1;32mfrom\u001b[0m \u001b[0mmath\u001b[0m \u001b[1;32mimport\u001b[0m \u001b[0msqrt\u001b[0m\u001b[1;33m\u001b[0m\u001b[0m\n\u001b[0;32m      3\u001b[0m \u001b[0mq\u001b[0m \u001b[1;33m=\u001b[0m \u001b[0mb\u001b[0m\u001b[1;33m*\u001b[0m\u001b[0mb\u001b[0m \u001b[1;33m-\u001b[0m \u001b[1;36m4\u001b[0m\u001b[1;33m*\u001b[0m\u001b[0ma\u001b[0m\u001b[1;33m*\u001b[0m\u001b[0mc\u001b[0m\u001b[1;33m\u001b[0m\u001b[0m\n\u001b[1;32m----> 4\u001b[1;33m \u001b[0mq_sr\u001b[0m \u001b[1;33m=\u001b[0m \u001b[0msqrt\u001b[0m\u001b[1;33m(\u001b[0m\u001b[0mq\u001b[0m\u001b[1;33m)\u001b[0m\u001b[1;33m\u001b[0m\u001b[0m\n\u001b[0m\u001b[0;32m      5\u001b[0m \u001b[0mx1\u001b[0m \u001b[1;33m=\u001b[0m \u001b[1;33m(\u001b[0m\u001b[1;33m-\u001b[0m\u001b[0mb\u001b[0m \u001b[1;33m+\u001b[0m \u001b[0mq_sr\u001b[0m\u001b[1;33m)\u001b[0m\u001b[1;33m/\u001b[0m\u001b[1;36m2\u001b[0m\u001b[1;33m*\u001b[0m\u001b[0ma\u001b[0m\u001b[1;33m\u001b[0m\u001b[0m\n\u001b[0;32m      6\u001b[0m \u001b[0mx2\u001b[0m \u001b[1;33m=\u001b[0m \u001b[1;33m(\u001b[0m\u001b[1;33m-\u001b[0m\u001b[0mb\u001b[0m \u001b[1;33m-\u001b[0m \u001b[0mq_sr\u001b[0m\u001b[1;33m)\u001b[0m\u001b[1;33m/\u001b[0m\u001b[1;36m2\u001b[0m\u001b[1;33m*\u001b[0m\u001b[0ma\u001b[0m\u001b[1;33m\u001b[0m\u001b[0m\n",
      "\u001b[1;31mValueError\u001b[0m: math domain error"
     ]
    }
   ],
   "source": [
    "a = 2; b = 1; c = 2\n",
    "from math import sqrt\n",
    "q = b*b - 4*a*c\n",
    "q_sr = sqrt(q)\n",
    "x1 = (-b + q_sr)/2*a\n",
    "x2 = (-b - q_sr)/2*a\n",
    "print (x1, x2)"
   ]
  },
  {
   "cell_type": "markdown",
   "metadata": {},
   "source": [
    "อธิบายปัญหาของโค้ดข้างต้น: \n",
    "\n",
    "\n"
   ]
  },
  {
   "cell_type": "code",
   "execution_count": null,
   "metadata": {},
   "outputs": [],
   "source": [
    "# ให้นักศึกษาแก้ไขโค้ดข้างต้นให้ run ได้ผลลัพธ์ที่ถูกต้อง \n",
    "\n",
    "\n",
    "\n"
   ]
  },
  {
   "cell_type": "markdown",
   "metadata": {},
   "source": [
    "### 4 (10 pts )  List indexing\n",
    "กำหนดให้ "
   ]
  },
  {
   "cell_type": "code",
   "execution_count": null,
   "metadata": {},
   "outputs": [],
   "source": [
    "q = [[['a'],'b','c'], [['d','e','f']], ['g','h']]"
   ]
  },
  {
   "cell_type": "markdown",
   "metadata": {},
   "source": [
    "### 4.1 ทำการ indexing list q เพื่อทำการเข้าถึง \n",
    "       - ตัวอักษร a\n",
    "       \n",
    "       - list  ['d','e','f']"
   ]
  },
  {
   "cell_type": "code",
   "execution_count": null,
   "metadata": {},
   "outputs": [],
   "source": [
    "# Add code เพื่อ indexing ตัวอักษร a \n",
    "\n",
    "\n",
    "# Add code เพื่อ indexing list  ['d','e','f'] \n",
    "\n"
   ]
  },
  {
   "cell_type": "code",
   "execution_count": null,
   "metadata": {},
   "outputs": [],
   "source": [
    "# จากโค้ดที่กำหนดให้ จงตอบคำถามเกี่ยวกับชนิดของตัวแปล i, j \n",
    "for i in q:\n",
    "    for j in range(len(i)):\n",
    "        print (i[j])\n"
   ]
  },
  {
   "cell_type": "markdown",
   "metadata": {},
   "source": [
    "ชนิดของตัวแปล i คืออะไร  .....\n",
    "\n",
    "ชนิดของตัวแปล j คืออะไร  .....\n",
    "\n",
    "\n"
   ]
  },
  {
   "cell_type": "markdown",
   "metadata": {},
   "source": [
    "### 5 (10 pts) ให้นักศึกษาอ่านโค้ดของโปรแกรมข้างล่าง แล้วอธิบายว่าโค้ดแต่ละบรรทัดว่าทำงานอะไร   สังเกตุผลลัพท์ที่ได้จากการรันโค้ด นักศึกษาสามารถสรุปอะไรได้บ้างจากการสังเกตุ  "
   ]
  },
  {
   "cell_type": "code",
   "execution_count": null,
   "metadata": {},
   "outputs": [],
   "source": [
    "eps = 1.0\n",
    "while (1.0 != 1.0 + eps):\n",
    "    print ('...............', eps)\n",
    "    eps = eps/2.0\n",
    "print ('final eps:', eps)"
   ]
  },
  {
   "cell_type": "markdown",
   "metadata": {},
   "source": [
    "อธิบายการทำงานของโค้ดข้างต้น: \n",
    "\n",
    "\n",
    "ผลสรุปที่ได้จากการสังเกตุการรัน Code: \n",
    "\n"
   ]
  },
  {
   "cell_type": "markdown",
   "metadata": {},
   "source": [
    "### 6  (10 pts)  Exercise 2.19: Explore round-off errors from a large number of inverse operations \n",
    "บางทีนักศึกษาอาจเคยลองกดสแควร์รูทบนเครื่องคิดเลขหลาย ๆ ครั้งและจากนั้นทำการยกกำลังสองด้วยจำนวนครั้งที่เท่ากัน ซึ่งค่าที่ได้ก็ควรจะเป็นค่าเริ่มต้นเหมือนเดิม\n",
    "แต่สิ่งนี้ไม่ได้เกิดขึ้นเสมอไป \n",
    "\n",
    "1) ให้นักศึกษาอธิบายการทำงานของโค้ดโปรแกรมข้างล่าง\n",
    "\n",
    "2) อธิบายว่าเพราะเหตุใด ผลลัพธ์สุดท้าย  ค่า $r$ จึงไม่ได้ 2 "
   ]
  },
  {
   "cell_type": "code",
   "execution_count": null,
   "metadata": {},
   "outputs": [],
   "source": [
    "from math import sqrt\n",
    "T = 60  \n",
    "for n in range(1, T):\n",
    "    r = 2.0\n",
    "    for i in range(n):\n",
    "        r = sqrt(r)\n",
    "    for i in range(n):\n",
    "        r = r**2\n",
    "    print (\"%d times sqrt and **2: %.16f\" % ( n, r))\n",
    "\n"
   ]
  }
 ],
 "metadata": {
  "kernelspec": {
   "display_name": "Python 3",
   "language": "python",
   "name": "python3"
  },
  "language_info": {
   "codemirror_mode": {
    "name": "ipython",
    "version": 3
   },
   "file_extension": ".py",
   "mimetype": "text/x-python",
   "name": "python",
   "nbconvert_exporter": "python",
   "pygments_lexer": "ipython3",
   "version": "3.6.5"
  }
 },
 "nbformat": 4,
 "nbformat_minor": 2
}
