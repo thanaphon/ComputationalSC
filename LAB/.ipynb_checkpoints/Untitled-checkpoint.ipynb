{
 "cells": [
  {
   "cell_type": "markdown",
   "metadata": {},
   "source": [
    "# LAB 1 \n",
    "## Goals:  practice writing a python code in functional style  \n",
    "\n",
    "1) lambda expression \n",
    "2) map function\n",
    "3) zip function\n",
    "4) list comprehension\n",
    "\n",
    "\n",
    "Objectives:\n",
    "\n",
    "1) เข้าใจถึง Syntax และ ประโยชน์ในการเรียกใช้ map function \n",
    "\n",
    "2) สามารถใช้ lambda expression ในการประกาศฟังก์ ชั่นอย่างกระชับ \n",
    "\n",
    "3) สามารถใช้ list comprehension syntax ในการ สร้าง list อย่างง่าย ๆ \n",
    "\n",
    "4) นำความรู้ที่ได้ ไปประยุกต์กับการคำนวณหาผลลัพธ์ของสมาชิกใน list \n",
    "\n",
    "Motivation: \n",
    "สมมติว่าเรามี list ls = [1,2,3,4,5,6,7] \n",
    "เราต้องการจะ เพิ่มค่าของสมาชิกใน list ls ทุกตัวด้วยค่าคงที่ค่าหนึ่ง นักศึกษาจะเขียนเป็น code python ได้ว่าลองเขียนลงใน code block ข้างล่าง \n"
   ]
  },
  {
   "cell_type": "code",
   "execution_count": null,
   "metadata": {},
   "outputs": [],
   "source": [
    "#Problem 1 \n",
    "ls = [1,2,3,4,5,6,7] \n",
    "# implement เราต้องการจะ เพิ่มค่าของสมาชิกใน list ls ทุกตัวด้วยค่า c =  3   ให้นักศึกษาเขียนโค้ดข้างล่าง\n",
    "\n",
    "\n",
    "\n"
   ]
  },
  {
   "cell_type": "markdown",
   "metadata": {},
   "source": [
    "### Lambda expression: \n",
    "Syntax:  keyword lambda < variables > : < expression >"
   ]
  },
  {
   "cell_type": "code",
   "execution_count": 14,
   "metadata": {},
   "outputs": [
    {
     "data": {
      "image/png": "[encoded data removed]",
      "text/latex": [
       "$$2$$"
      ],
      "text/plain": [
       "2"
      ]
     },
     "execution_count": 14,
     "metadata": {},
     "output_type": "execute_result"
    }
   ],
   "source": [
    "foo = lambda x : x+1 \n",
    "foo(1)"
   ]
  },
  {
   "cell_type": "code",
   "execution_count": 15,
   "metadata": {},
   "outputs": [
    {
     "data": {
      "image/png": "[encoded data removed]",
      "text/latex": [
       "$$6$$"
      ],
      "text/plain": [
       "6"
      ]
     },
     "execution_count": 15,
     "metadata": {},
     "output_type": "execute_result"
    }
   ],
   "source": [
    "foo1 = lambda x,y,z: x + y + z\n",
    "foo1(1,2,3)"
   ]
  },
  {
   "cell_type": "markdown",
   "metadata": {},
   "source": [
    " ให้นักศึกษา เขียนเขียน lambda function ของ function ที่กำหนดให้ต่อไปนี้ \n",
    " \n",
    " function $$ f_1(x,y) = 2x^2 - 4y^3 $$ \n",
    "     $$ f_2(v_0, a, t) = v_0 t + \\frac{1}{2} a t^2  $$"
   ]
  },
  {
   "cell_type": "code",
   "execution_count": null,
   "metadata": {},
   "outputs": [],
   "source": [
    "# Problem 2\n",
    "# define your lambda expressions here \n",
    "f1 = ...\n",
    "\n",
    "f2 = ..."
   ]
  },
  {
   "cell_type": "markdown",
   "metadata": {},
   "source": [
    "### Map function: \n",
    "Syntax:    map( < fn> , < list>,..., < list> )  return a list when applying fn on each element of the list "
   ]
  },
  {
   "cell_type": "code",
   "execution_count": 22,
   "metadata": {},
   "outputs": [
    {
     "name": "stdout",
     "output_type": "stream",
     "text": [
      "<map object at 0x0000018D453ED390>\n"
     ]
    },
    {
     "data": {
      "image/png": "[encoded data removed]",
      "text/latex": [
       "$$\\left [ 2, \\quad 3, \\quad 4, \\quad 5\\right ]$$"
      ],
      "text/plain": [
       "[2, 3, 4, 5]"
      ]
     },
     "execution_count": 22,
     "metadata": {},
     "output_type": "execute_result"
    }
   ],
   "source": [
    "ls = [1,2,3,4]\n",
    "print(map(foo , ls)) \n",
    "list(map(foo , ls))"
   ]
  },
  {
   "cell_type": "markdown",
   "metadata": {},
   "source": [
    "จากความรู้ที่ได้จาก lambda expression และ build in map function ให้นักศึกษา implement Problem 1 อีกครั้งโดยใช้ map และ lambda function  "
   ]
  },
  {
   "cell_type": "code",
   "execution_count": null,
   "metadata": {},
   "outputs": [],
   "source": [
    "#Problem 3 \n",
    "ls = [1,2,3,4,5,6,7] \n",
    "# ADD your code here \n",
    "\n",
    "\n",
    "\n",
    "\n",
    "\n",
    "\n"
   ]
  },
  {
   "cell_type": "markdown",
   "metadata": {},
   "source": [
    "ให้นักศึกษาเขียน code python เพื่อทำการ เเสดง list ของผลการคำนวณ function $$ f_1(x,y) = 2x^2 - 4y^3 $$ \n",
    "จากความสัมพันธ์ของอินพุทที่กำหนดให้\n",
    "\n",
    "x = 1.. 100 และ y = x + 2     =  { (1,3) , (2,5) , ... (100,102)} \n",
    "\n",
    " \n"
   ]
  },
  {
   "cell_type": "code",
   "execution_count": null,
   "metadata": {},
   "outputs": [],
   "source": [
    "#Problem 4\n",
    "#ADD your code here\n",
    "\n",
    "\n",
    "\n",
    "\n"
   ]
  },
  {
   "cell_type": "code",
   "execution_count": 39,
   "metadata": {},
   "outputs": [
    {
     "data": {
      "image/png": "[encoded data removed]",
      "text/latex": [
       "$$\\left [ 3, \\quad 5, \\quad 7\\right ]$$"
      ],
      "text/plain": [
       "[3, 5, 7]"
      ]
     },
     "execution_count": 39,
     "metadata": {},
     "output_type": "execute_result"
    }
   ],
   "source": [
    "# HINT\n",
    "f1 = lambda x, y : x+ y\n",
    "list(map(f1, [ 1 ,2 ,3] , [2,3,4]))"
   ]
  },
  {
   "cell_type": "markdown",
   "metadata": {},
   "source": [
    "### Zip function (optional)\n",
    "Syntax: zip( < list1> , < list2>) return list ของ tuple pairs จากสามาชิกใน list1 และ list2   "
   ]
  },
  {
   "cell_type": "code",
   "execution_count": 26,
   "metadata": {},
   "outputs": [
    {
     "data": {
      "text/plain": [
       "<zip at 0x18d453efc88>"
      ]
     },
     "execution_count": 26,
     "metadata": {},
     "output_type": "execute_result"
    }
   ],
   "source": [
    "zip([1,2,3] , ['a','b','c'])"
   ]
  },
  {
   "cell_type": "code",
   "execution_count": 31,
   "metadata": {},
   "outputs": [
    {
     "data": {
      "text/plain": [
       "[(1, 'a'), (2, 'b'), (3, 'c')]"
      ]
     },
     "execution_count": 31,
     "metadata": {},
     "output_type": "execute_result"
    }
   ],
   "source": [
    "list(zip([1,2,3] , ['a','b','c']))"
   ]
  },
  {
   "cell_type": "code",
   "execution_count": 30,
   "metadata": {},
   "outputs": [
    {
     "data": {
      "text/plain": [
       "[(1, 'a'), (2, 'b')]"
      ]
     },
     "execution_count": 30,
     "metadata": {},
     "output_type": "execute_result"
    }
   ],
   "source": [
    "list(zip([1,2,3] , ['a','b']) )"
   ]
  },
  {
   "cell_type": "code",
   "execution_count": null,
   "metadata": {},
   "outputs": [],
   "source": [
    "List comprehension:  \n",
    "https://docs.python.org/3/tutorial/datastructures.html\n",
    "Syntax: \\\\[  <an expression>  <for>  <condition>   \\\\] \n",
    "\n"
   ]
  }
 ],
 "metadata": {
  "kernelspec": {
   "display_name": "Python 3",
   "language": "python",
   "name": "python3"
  },
  "language_info": {
   "codemirror_mode": {
    "name": "ipython",
    "version": 3
   },
   "file_extension": ".py",
   "mimetype": "text/x-python",
   "name": "python",
   "nbconvert_exporter": "python",
   "pygments_lexer": "ipython3",
   "version": "3.6.5"
  }
 },
 "nbformat": 4,
 "nbformat_minor": 2
}
