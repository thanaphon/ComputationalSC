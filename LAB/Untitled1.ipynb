{
 "cells": [
  {
   "cell_type": "code",
   "execution_count": 7,
   "metadata": {},
   "outputs": [
    {
     "name": "stdout",
     "output_type": "stream",
     "text": [
      "<function <lambda> at 0x0000018D4327A7B8>\n",
      "1\n",
      "<function <lambda> at 0x0000018D432FD268>\n",
      "2.718281828459045\n"
     ]
    }
   ],
   "source": [
    "import numpy as np\n",
    "\n",
    "f1 = lambda x : x**2\n",
    "x = 1\n",
    "print(f1)\n",
    "print(f1(x))\n",
    "\n",
    "print(f2)\n",
    "f2 = lambda x : np.exp(x)\n",
    "print(f2(x))\n"
   ]
  },
  {
   "cell_type": "markdown",
   "metadata": {},
   "source": [
    "Excercise 1: \n",
    "We want to write a program that can compute values of the function \n",
    "$g(t) = e^{−at} $ and its derivative $g'(t) = −ae^{−at}$,\n",
    "where $a$ is some known parameter. \n",
    "\n",
    "TODO \n",
    "1 ) Write a Python function $g(t)$ that evaluates and returns the values of $g(t)$\n",
    "and $g'(t)$. The parameter a can be a global variable. \n",
    "\n",
    "2) Demonstrate how the function is called and how the returned result can be stored in variables.\n",
    "Write out the computed value of $g′(t)$ to the screen.\n"
   ]
  },
  {
   "cell_type": "code",
   "execution_count": 4,
   "metadata": {},
   "outputs": [
    {
     "ename": "SyntaxError",
     "evalue": "invalid syntax (<ipython-input-4-ba668ab828cf>, line 2)",
     "output_type": "error",
     "traceback": [
      "\u001b[1;36m  File \u001b[1;32m\"<ipython-input-4-ba668ab828cf>\"\u001b[1;36m, line \u001b[1;32m2\u001b[0m\n\u001b[1;33m    g = lambda x:\u001b[0m\n\u001b[1;37m                  ^\u001b[0m\n\u001b[1;31mSyntaxError\u001b[0m\u001b[1;31m:\u001b[0m invalid syntax\n"
     ]
    }
   ],
   "source": [
    "\n",
    "g = lambda x: "
   ]
  },
  {
   "cell_type": "code",
   "execution_count": null,
   "metadata": {},
   "outputs": [],
   "source": []
  }
 ],
 "metadata": {
  "kernelspec": {
   "display_name": "Python 3",
   "language": "python",
   "name": "python3"
  },
  "language_info": {
   "codemirror_mode": {
    "name": "ipython",
    "version": 3
   },
   "file_extension": ".py",
   "mimetype": "text/x-python",
   "name": "python",
   "nbconvert_exporter": "python",
   "pygments_lexer": "ipython3",
   "version": "3.6.5"
  }
 },
 "nbformat": 4,
 "nbformat_minor": 2
}
