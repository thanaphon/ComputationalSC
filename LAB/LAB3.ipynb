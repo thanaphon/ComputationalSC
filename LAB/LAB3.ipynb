{
  "nbformat": 4,
  "nbformat_minor": 0,
  "metadata": {
    "colab": {
      "name": "Lab3.ipynb",
      "version": "0.3.2",
      "provenance": []
    },
    "kernelspec": {
      "name": "python3",
      "display_name": "Python 3"
    }
  },
  "cells": [
    {
      "metadata": {
        "id": "chsaG9DWxq-I",
        "colab_type": "text"
      },
      "cell_type": "markdown",
      "source": [
        "#  Lab3:  file I/O  + Try Exception\n",
        "\n",
        "**Objectives**: เพื่อให้นักศึกษา ได้ทดลองการเขียนโปรแกรมเพื่อทำการอ่าน file โดยอาศัย Python  และ ทดลองทำการ execute input code ที่อ่านเข้ามาจาก file \n",
        " \n",
        " \n",
        " 1) Reading/ writing  input and output file \n",
        " \n",
        " 2) Basic data structure แบบ linklist \n",
        " \n",
        " 3) Display scatter plot \n",
        " \n",
        " 4) Execute code using exec  command \n",
        " \n",
        " \n",
        " \n",
        "###  โจทย์: \n",
        " \n",
        " ให้นักศึกษาเขียน โปรแกรม Python เพื่อทำการอ่าน text ไฟล์ใน folder ที่กำหนดให้ \n",
        " โดยชื่อของไฟล์  ต่าง ๆ จะเป็นตัวเลขตั้งแต่    1.txt   จนถึง  302.txt  ซึ่งในไฟล์จะมีข้อมูล**ตัวเลข**ที่บอกถึงไฟล์ถัดไป ลักษณะเดียวกันกับ link list ยกเว้นหนึ่งไฟล์ซึ่งเป็น python code\n",
        " \n",
        " ยกตัวอย่างเช่น :\n",
        " \n",
        "ในไฟล์  1.txt\n",
        " ก็จะมีตัวเลข  101    ระบุถึงชื่อไฟล์ถัดไป และในไฟล์ 101.txt ก็จะมีข้อมูลที่บอกถึงไฟล์ถัดไป ที่นักศึกษาต้องทำการอ่านไปเรื่อย ๆ    (1 ->  101 -> 8 -> 47 -> ...........-> XXX    )   จนกระทั่งถึงไฟล์สุดท้ายซึ่งเก็บ code python เอาไว้ \n",
        " \n",
        "### 1) ให้นักศึกษาเขียนโปรแกรม Python เพื่อทำการระบุ ว่า file สุดท้ายใน list คือ file ที่เท่าไหร่ \n",
        "\n",
        "### 2) ให้นักศึกษาทำการเก็บ ลำดับของการอ่านไฟล์เหล่านี้มาแสดงผลด้วย scatter plot  \n",
        "\n",
        "### 3) ให้นักศึกษาเขียน Code เพื่อทำการอ่าน และ run python code ใน file สุดท้ายของ list \n",
        "\n",
        "หมายเหตุ กำหนดให้ file เริ่มต้นคือ  1.txt และในไฟล์สุดท้ายของ list นั้นจะเริ่มต้นบรรทัดด้วย #GoodJob และตามด้วย code python ในบรรทัดถัด ๆ ไป\n",
        " \n"
      ]
    },
    {
      "metadata": {
        "id": "DOWDe7ygj4cL",
        "colab_type": "code",
        "colab": {}
      },
      "cell_type": "code",
      "source": [
        "#Implement Code ของนักศึกษาที่นี่ \n",
        "\n"
      ],
      "execution_count": 0,
      "outputs": []
    },
    {
      "metadata": {
        "id": "kywncMVgkHaZ",
        "colab_type": "text"
      },
      "cell_type": "markdown",
      "source": [
        "## ตอบคำถามข้างต้น\n",
        "### 1)   file สุดท้ายใน list คือ file ที่เท่าไหร่\n",
        "\n",
        "\n",
        "\n",
        "### 2) ผลลัพธ์ของ Scatter plot\n"
      ]
    },
    {
      "metadata": {
        "id": "EDUToZb_kdHp",
        "colab_type": "code",
        "colab": {}
      },
      "cell_type": "code",
      "source": [
        "# เเสดงผล Scatter plot ของ ลำดับของชื่อไฟล์\n"
      ],
      "execution_count": 0,
      "outputs": []
    },
    {
      "metadata": {
        "id": "AaydFdJAkvGh",
        "colab_type": "text"
      },
      "cell_type": "markdown",
      "source": [
        "### 3) ผลลัพธ์ที่ได้จากการ run code ใน file สุดท้ายคือ"
      ]
    },
    {
      "metadata": {
        "id": "644oy2B1lLZd",
        "colab_type": "text"
      },
      "cell_type": "markdown",
      "source": [
        "\n",
        "\n",
        "---\n",
        "\n",
        "## REVIEW and HINT Section"
      ]
    },
    {
      "metadata": {
        "id": "YccbhW5sOrOc",
        "colab_type": "text"
      },
      "cell_type": "markdown",
      "source": [
        "## Reading/ writing  input and output file:\n"
      ]
    },
    {
      "metadata": {
        "id": "1t0MnrXGhTCS",
        "colab_type": "code",
        "colab": {}
      },
      "cell_type": "code",
      "source": [
        "# ตัวอย่างกาเขียนไฟล์ลง local machine  นักศึกษาสามารถ copy code ไปรันในเครื่องเพื่อสังเกตุ output\n",
        "\n",
        "file = open('testfile.txt','w') \n",
        " \n",
        "file.write('Hello World') \n",
        "file.write('This is our new text file') \n",
        "file.write('and this is another line.') \n",
        "file.write('Why? Because we can.') \n",
        " \n",
        "file.close() \n"
      ],
      "execution_count": 0,
      "outputs": []
    },
    {
      "metadata": {
        "id": "NY8Z0fC2iyvU",
        "colab_type": "code",
        "outputId": "adc2fabd-9d43-4e75-d4ac-a4ce3566807c",
        "colab": {
          "base_uri": "https://localhost:8080/",
          "height": 35
        }
      },
      "cell_type": "code",
      "source": [
        "# ตัวอย่างการอ่าน ไฟล์จาก local machine  นักศึกษาสามารถ copy code ไปรันในเครื่องเพื่อสังเกตุ output\n",
        "file_name = 'testfile.txt'\n",
        "infile = open(file_name,'r')\n",
        "for line in infile:\n",
        "  print(line)\n",
        "\n",
        "infile.close()"
      ],
      "execution_count": 0,
      "outputs": [
        {
          "output_type": "stream",
          "text": [
            "Hello WorldThis is our new text fileand this is another line.Why? Because we can.\n"
          ],
          "name": "stdout"
        }
      ]
    },
    {
      "metadata": {
        "id": "jX4oEre2gcPJ",
        "colab_type": "code",
        "outputId": "e5df6194-f4d0-402a-d287-098b8981a2d9",
        "colab": {
          "base_uri": "https://localhost:8080/",
          "height": 35
        }
      },
      "cell_type": "code",
      "source": [
        "#ตัวอย่างการอ่านไฟล์จาก website\n",
        "\n",
        "import urllib  # the lib that handles the url stuff\n",
        "#กำหนดตัวแปลที่ใช้สำหรับสร้างชื่อของไฟล์ที่ต้องการทำการอ่าน\n",
        "x = 1\n",
        "\n",
        "#กำหนด url ที่ต้องการในการอ่านไฟล์เริมต้น      \n",
        "target_url = 'https://raw.githubusercontent.com/thanaphon/ComputationalSC/master/LAB/findMe/{}.txt'.format(x)\n",
        "\n",
        "#ทำการอ่านข้อมูลจาก url มาเก็บไว้\n",
        "data = urllib.request.urlopen(target_url) \n",
        "\n",
        "for line in data:\n",
        "  print(line)"
      ],
      "execution_count": 0,
      "outputs": [
        {
          "output_type": "stream",
          "text": [
            "b'101\\n'\n"
          ],
          "name": "stdout"
        }
      ]
    },
    {
      "metadata": {
        "id": "auMyNE8HPjy2",
        "colab_type": "text"
      },
      "cell_type": "markdown",
      "source": [
        "##  Basic data structure แบบ linklist \n",
        "\n",
        "\n",
        "https://en.wikipedia.org/wiki/Linked_list \n",
        "\n",
        "ลักษณะของโครงสร้างข้อมูลแบบ Link list  นั้นจะเก็บข้อมูล และสร้าง pointer เพื่อใช้ชี้ไปยังข้อมูลชุดถัดไป     \n",
        "\n",
        "[$x$] -> [$x_1$] ->  [$x_2$] -> [$x_3$] -> ........ -> [Null]\n",
        "\n",
        "ซึ่งใน Lab นี้ให้นักศึกษามองว่า $x_0$ นั้นก็คือ file  1.txt  ซึ่งเก็บ pointer ที่ชี้ไปยังข้อมูลชุดถัดไปซึ่งก็คือ 101.txt และตัวท้ายสุดของ list นี้ก็คือ file ที่เราต้องการ ในการนำ code มารัน \n",
        "\n",
        "\n"
      ]
    },
    {
      "metadata": {
        "id": "Gh8liW6EPsXn",
        "colab_type": "text"
      },
      "cell_type": "markdown",
      "source": [
        "## Display scatter plot"
      ]
    },
    {
      "metadata": {
        "id": "u8MKm-_bPz7g",
        "colab_type": "code",
        "outputId": "8fa2c5b6-40cb-4f3b-bb90-487d96e18070",
        "colab": {
          "base_uri": "https://localhost:8080/",
          "height": 402
        }
      },
      "cell_type": "code",
      "source": [
        "import random\n",
        "ns = list(range(2,303))\n",
        "random.shuffle(ns)\n",
        "print(ns)\n",
        "\n",
        "\n",
        "import matplotlib.pyplot as plt\n",
        "plt.plot(ns,'o')\n"
      ],
      "execution_count": 0,
      "outputs": [
        {
          "output_type": "stream",
          "text": [
            "[251, 280, 115, 198, 265, 260, 38, 221, 248, 245, 301, 210, 204, 104, 190, 247, 113, 126, 129, 148, 55, 130, 141, 2, 53, 99, 172, 177, 33, 52, 76, 36, 94, 19, 25, 188, 51, 263, 91, 238, 138, 145, 70, 298, 207, 229, 217, 96, 69, 123, 20, 100, 220, 285, 85, 35, 170, 127, 49, 158, 150, 133, 58, 173, 211, 18, 40, 179, 182, 116, 165, 86, 110, 111, 142, 139, 275, 267, 191, 12, 105, 258, 147, 200, 286, 128, 140, 236, 10, 98, 39, 233, 155, 160, 214, 117, 299, 209, 166, 156, 56, 6, 277, 192, 284, 290, 7, 87, 43, 136, 181, 252, 266, 24, 256, 197, 74, 152, 15, 262, 37, 174, 234, 75, 230, 59, 44, 77, 222, 255, 203, 108, 146, 63, 78, 294, 268, 68, 183, 231, 302, 62, 144, 180, 167, 149, 151, 118, 208, 178, 193, 237, 82, 29, 135, 14, 48, 264, 30, 261, 13, 195, 67, 283, 281, 84, 11, 185, 42, 97, 79, 242, 120, 295, 60, 103, 125, 3, 65, 199, 287, 250, 28, 106, 21, 212, 34, 73, 23, 119, 131, 137, 271, 213, 270, 292, 201, 107, 243, 16, 109, 206, 278, 176, 71, 27, 143, 279, 122, 235, 114, 66, 93, 239, 8, 153, 282, 83, 61, 186, 202, 227, 244, 171, 241, 32, 288, 187, 225, 228, 196, 163, 269, 224, 272, 5, 259, 296, 257, 31, 226, 95, 4, 253, 121, 293, 154, 124, 54, 90, 249, 289, 92, 300, 297, 162, 41, 80, 215, 64, 194, 88, 57, 254, 273, 102, 175, 22, 157, 223, 81, 164, 205, 169, 112, 9, 72, 26, 168, 132, 17, 159, 219, 276, 218, 240, 189, 184, 274, 46, 216, 47, 50, 161, 101, 45, 232, 134, 291, 246, 89]\n"
          ],
          "name": "stdout"
        },
        {
          "output_type": "execute_result",
          "data": {
            "text/plain": [
              "[<matplotlib.lines.Line2D at 0x7ff468f02240>]"
            ]
          },
          "metadata": {
            "tags": []
          },
          "execution_count": 2
        },
        {
          "output_type": "display_data",
          "data": {
            "image/png": "[encoded data removed]",
            "text/plain": [
              "<Figure size 576x396 with 1 Axes>"
            ]
          },
          "metadata": {
            "tags": []
          }
        }
      ]
    },
    {
      "metadata": {
        "id": "tc5piN9VjgVq",
        "colab_type": "text"
      },
      "cell_type": "markdown",
      "source": [
        "\n",
        "\n",
        "## Template สำหรับนักศึกษาที่ต้องการ Hint"
      ]
    },
    {
      "metadata": {
        "id": "9Qa_NH-Yxoff",
        "colab_type": "code",
        "colab": {}
      },
      "cell_type": "code",
      "source": [
        "\n",
        "# Import ไฟล์ที่ช่วยในการอ่านข้อมูลเข้าจาก web และช่วยทำการ plot \n",
        "import urllib  # the lib that handles the url stuff\n",
        "import matplotlib.pyplot as plt\n",
        "\n",
        "\n",
        "#ทำการกำหนด ค่าเริ่มต้นของ list ที่ไว้ใช้เก็บลำดับของการอ่านไฟล์\n",
        "Ls = [1]    \n",
        "\n",
        "#กำหนดตัวแปลที่ใช้สำหรับสร้างชื่อของไฟล์ที่ต้องการทำการอ่าน\n",
        "x = 1\n",
        "\n",
        "\n",
        "NotFound = True\n",
        "# หากยังไม่เจอ file ที่ต้องการให้ทำการ loop อ่านไฟล์ไปเรื่อย ๆ \n",
        "while NotFound:\n",
        "  \n",
        "#กำหนด url ที่ต้องการในการอ่านไฟล์เริมต้น      \n",
        "  target_url = 'https://raw.githubusercontent.com/thanaphon/ComputationalSC/master/LAB/findMe/{}.txt'.format(x)\n",
        "\n",
        "#ทำการอ่านข้อมูลจาก url มาเก็บไว้\n",
        "  data = urllib.request.urlopen(target_url) \n",
        "  \n",
        "  NotFound = False # ใส่ไว้เพื่อบังคับให้ออกจาก loop\n",
        "  \n",
        "#สำหรับแต่ละบรรทัดใน data ให้ลองอ่านค่าเข้ามาเป็น integer \n",
        "# หากอินพุทไฟล์ ที่อ่านเข้ามาเป็น integer ให้ทำการเก็บค่าที่อ่านเข้ามาไว้ใน list ที่นักศึกษาสร้างขึ้น\n",
        "# และกำหนดค่าของตัวแปล x ใหม่เพื่อใช้ในการอ่าน file ตัวต่อไป\n",
        "# หากเกิด Error ขึ้นนั่นหมายถึงเราได้เจอกับ file ที่เก็บข้อมูลที่ไม่ใช่ตัวเลข ไว้ที่บรรทัดเเรกของไฟล์\n",
        "# ให้ทำการ รันไฟล์นี้ทีละบรรทัด  set ค่าตัวแปล NotFound ใหม่เพื่อออกจาก Loop\n",
        "# ทำการสร้าง Scatter plot ของ list ที่นักศึกษาสร้างขึ้น\n",
        "\n",
        "\n",
        " "
      ],
      "execution_count": 0,
      "outputs": []
    },
    {
      "metadata": {
        "id": "wlu8xX1o-D8t",
        "colab_type": "code",
        "colab": {}
      },
      "cell_type": "code",
      "source": [
        ""
      ],
      "execution_count": 0,
      "outputs": []
    }
  ]
}