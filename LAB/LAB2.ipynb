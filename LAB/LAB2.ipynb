{
 "cells": [
  {
   "cell_type": "markdown",
   "metadata": {},
   "source": [
    "ให้นักศึกษาเขียนชื่อ และรหัสนักศึกษาลงใน jupyter notebook \n",
    "\n",
    "\n",
    "Name:  \n",
    "\n",
    "\n",
    "StudentID:\n",
    "\n",
    "# LAB 2 Playing with formula \n",
    "\n",
    "\n",
    "## Goals:  practice writing a python code and ploting some graphs \n",
    "\n",
    "1) Intro to pyplot  \n",
    "\n",
    "2) Writing report using jupyter notebook \n",
    "\n",
    "3) Integration using trapezoidal method\n",
    "\n",
    "4) Integration with symbolic package \n",
    "\n",
    "\n",
    "## Objectives:\n",
    "\n",
    "1) เรียนรู้วิธีในการแสดงผล ข้อมูลกราฟ โดยใช้ pyplot package   \n",
    "\n",
    "2) สามารถเขียนรายงาน โดยเเทรก โคดเเละเเสดงผลการทดลองใ jupyter notebook \n",
    "\n",
    "3) สามารถทำการ Implement การทำ integration อย่างง่าย ๆ \n",
    "\n",
    "4) ให้นักศึกษาทดลองใช้ Symbolic tools ในการแก้ปัญหาเชิงคณิตศาตร์  (Optional)\n",
    "\n",
    "\n"
   ]
  },
  {
   "cell_type": "markdown",
   "metadata": {},
   "source": [
    "## 1) เรียนรู้วิธีในการแสดงผล ข้อมูลกราฟ โดยใช้ pyplot package   \n",
    "\n",
    " Pyplot เป็น module ใน matplotlib ที่เราสามารถใช้เเสดงผลข้อมูลตัวเลขในลักษณะของข้อมูลกราฟได้ในแบบการเดียวกับการแสดงผลใน Matlab     \n",
    "    ซึ่งฟังก์ชั่นที่ใช้บ่อย ๆ ได้แก่ plot ให้นักศึกษาตัวอย่าง จาก Reference \n",
    "    \n",
    "1) https://matplotlib.org/tutorials/introductory/pyplot.html\n",
    "\n",
    "2) https://dev.to/skotaro/artist-in-matplotlib---something-i-wanted-to-know-before-spending-tremendous-hours-on-googling-how-tos--31oo\n",
    " \n",
    "\n",
    "ตัวอย่าง ต่าง ๆ \n",
    "https://matplotlib.org/gallery/index.html"
   ]
  },
  {
   "cell_type": "code",
   "execution_count": null,
   "metadata": {},
   "outputs": [],
   "source": [
    "import matplotlib.pyplot as plt\n",
    "# ทดลองรันโดย เอา comment ออก\n",
    "%matplotlib inline\n",
    "plt.plot([1, 2, 3, 4])\n",
    "plt.ylabel('some numbers')\n",
    "plt.show()"
   ]
  },
  {
   "cell_type": "markdown",
   "metadata": {},
   "source": [
    "\n",
    "### โจทย์ข้อที่ 1\n",
    "\n",
    " แล้วทำการ plot กราฟสมการคู่ลำดับ x,y จากสมการที่กำหนดให้ดังต่อไปนี้ \n",
    "\n",
    "$$\n",
    "\\begin{align*}\n",
    "x &= 16sin(t)^3 \\\\\n",
    "y &= 13cos(t) - 5cos(2t) - 2cos(3t) - cos(4t) \n",
    "\\end{align*}$$\n",
    "\n",
    "\n",
    "$$\\text{โดยที่กำหนดให้ ค่า } t \\text { มีค่า ตั้งแต่ } -2\\pi \\text{ ถึง } 2\\pi$$  \n",
    "\n",
    "นักศึกษาอาจจะใช้ function linspace ของ numpy ในการกำหนดโดเมน t \n",
    "\n",
    "อนุญาตให้นักศึกษา import numpy ในการคำนวณ ค่า sin, cos ของ list หรืออาจจะใช้การ apply map function จากสัปดาห์ที่แล้ว (แนะนำให้ลองใช้วิธีหลัง)\n",
    "\n",
    "\n"
   ]
  },
  {
   "cell_type": "code",
   "execution_count": null,
   "metadata": {},
   "outputs": [],
   "source": [
    "#เขียนโคดของ นักศึกษาลงที่นี่ พร้อมเเสดง ผลลัพธ์ของสมการข้างต้น \n",
    "\n",
    "\n",
    "\n"
   ]
  },
  {
   "cell_type": "markdown",
   "metadata": {},
   "source": [
    "### โจทย์ข้อที่ 2\n",
    "\n",
    " $$  \\text{ทำการ plot กราฟสมการ }   y = f(x) \\text{ จากสมการที่กำหนดให้ดังต่อไปนี้ } $$\n",
    "\n",
    "$$\n",
    "\\begin{align*}  \n",
    "      y &= 3 \\\\\n",
    "      y &= log(x) \\\\\n",
    "      y &= x \\\\\n",
    "      y &= x log(x) \\\\\n",
    "      y &= x^2 \n",
    "      \\end{align*}\n",
    "      $$\n",
    "$$\\text{โดยที่กำหนดให้ ค่า } x \\text { มีค่า ตั้งแต่ } 0 \\text{ ถึง } 100  \\text( ลงในกราฟเดียวกัน) $$\n",
    "\n",
    "อนุญาตให้นักศึกษา import numpy ในการคำนวณ ค่า log ของ list หรืออาจจะใช้การ apply map function จากสัปดาห์ที่แล้ว (แนะนำให้ลองใช้วิธีหลัง)\n",
    "\n"
   ]
  },
  {
   "cell_type": "code",
   "execution_count": null,
   "metadata": {},
   "outputs": [],
   "source": [
    "from numpy import log as lg\n",
    "import numpy as np\n",
    "x =np.linspace(0,100,50)\n",
    "# ทำการ implement ในส่วนของการ plot\n",
    "\n",
    "\n",
    "\n"
   ]
  },
  {
   "cell_type": "markdown",
   "metadata": {},
   "source": [
    "## 2) Integration with Trapezoidal method\n",
    "\n",
    "จาก Trapezoidal integration method ทบทวนวิธีการจากรูปข้างล่าง หรือ https://en.wikipedia.org/wiki/Trapezoidal_rule \n",
    "\n",
    "\n",
    "### โจทย์ข้อที่ 3\n",
    "ให้นักศึกษา implement integration function เพื่อทำการประมาณค่าของพื้นที่ของ function f(x) = x^2  โดยทำการ integrate จาก ค่า x = 3 ถึง 6 \n",
    "\n",
    "1) แก้สมการหาค่าพื้นที่ใต้กราฟ โดยวิธี Analytic solution\n",
    "\n",
    "2) โดยให้นักศึกษา plot absolute error ของค่าประมาณจาก Trapezoidal method และผลลัพธ์ที่ได้จาก Analytic solution ให้เป็น function ของ n  จำนวนของพืั้นที่ย่อยที่ใช้ในการประมาณพื้นที่  กำหนดให้ N = range(10,1001,10)   \n"
   ]
  },
  {
   "cell_type": "code",
   "execution_count": null,
   "metadata": {},
   "outputs": [],
   "source": [
    "from IPython.display import Image \n",
    "Image(filename='fig/TrapezoidRule1.png')"
   ]
  },
  {
   "cell_type": "code",
   "execution_count": null,
   "metadata": {},
   "outputs": [],
   "source": [
    "# Part 1 คำนวณหาค่า Analytic solution "
   ]
  },
  {
   "cell_type": "code",
   "execution_count": null,
   "metadata": {},
   "outputs": [],
   "source": [
    "# Part 2 \n",
    "# Implement Trapezoidal integration \n",
    "# ทำการคำนวณหาค่า error จากการประมาณค่าของพื้นที่  สำหรับค่า n แต่ละค่า\n",
    "# plot absolute error เปรียบเทียบกับ Analytic solution as a function of n (number of subregions) \n"
   ]
  }
 ],
 "metadata": {
  "kernelspec": {
   "display_name": "Python 3",
   "language": "python",
   "name": "python3"
  },
  "language_info": {
   "codemirror_mode": {
    "name": "ipython",
    "version": 3
   },
   "file_extension": ".py",
   "mimetype": "text/x-python",
   "name": "python",
   "nbconvert_exporter": "python",
   "pygments_lexer": "ipython3",
   "version": "3.6.5"
  }
 },
 "nbformat": 4,
 "nbformat_minor": 2
}
