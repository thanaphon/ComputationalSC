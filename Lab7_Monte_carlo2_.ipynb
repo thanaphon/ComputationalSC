{
  "nbformat": 4,
  "nbformat_minor": 0,
  "metadata": {
    "colab": {
      "name": "Lab7_Monte_carlo2 .ipynb",
      "version": "0.3.2",
      "provenance": [],
      "collapsed_sections": [],
      "include_colab_link": true
    },
    "kernelspec": {
      "name": "python3",
      "display_name": "Python 3"
    }
  },
  "cells": [
    {
      "cell_type": "markdown",
      "metadata": {
        "id": "view-in-github",
        "colab_type": "text"
      },
      "source": [
        "<a href=\"https://colab.research.google.com/github/thanaphon/ComputationalSC/blob/master/Lab7_Monte_carlo2_.ipynb\" target=\"_parent\"><img src=\"https://colab.research.google.com/assets/colab-badge.svg\" alt=\"Open In Colab\"/></a>"
      ]
    },
    {
      "cell_type": "markdown",
      "metadata": {
        "id": "o2lTIhG8GnNy",
        "colab_type": "text"
      },
      "source": [
        "## ให้นักศึกษาเขียนชื่อ และรหัสนักศึกษาลงใน jupyter notebook\n",
        "\n",
        "## Name:  \n",
        "\n",
        "## StudentID: \n",
        "\n",
        "## Section: "
      ]
    },
    {
      "cell_type": "markdown",
      "metadata": {
        "id": "luU_l_uBG8Mc",
        "colab_type": "text"
      },
      "source": [
        "\n",
        "\n",
        "\n",
        "\n",
        "\n",
        "#  LAB7: Introduction to Monte carlo Method (Continue)\n",
        "\n",
        "\n",
        "วัตถุประสงค์:\n",
        "\n",
        "1) learn how to create random number (Vectorizing) using Python\n",
        "\n",
        "2) understand the basics of monte carlo method\n",
        "\n",
        "3) be able to design monte carlo simulation  \n",
        "\n",
        "\n",
        "---\n"
      ]
    },
    {
      "cell_type": "markdown",
      "metadata": {
        "id": "0LfabSw_H9kL",
        "colab_type": "text"
      },
      "source": [
        "## สมมุติ นักศึกษาได้ถูกจ้างให้เป็นที่ปรึกษาในแผนกการวิเคราะห์รายได้ของบริษัท Casino แห่งหนึ่ง ซึ่งทางบริษัทได้ขอให้นักศึกษาทำการวิเคราะห์ เกมส์ต้นแบบซึ่งมีกฎดังต่อไปนี้\n",
        "กำหนดให้ในเกมส์นี้มีอุปกรณ์ดังต่อไปนี้ :  \n",
        "\n",
        " 1.  ลูกเต๋าแบบ A ซึ่งมี  10 หน้า  จำนวน 1 ลูก  (หน้า 1-10) \t\n",
        "\n",
        " 2. ลูกเต๋าแบบ B ซึ่งมี  6 หน้า   จำนวน 1 ลูก   (หน้า 1-6)\n",
        "\n",
        "Note: ลูกเต๋าทั้งสองแบบนั้นไม่มีการ ถ่วงน้ำหนัก\n",
        "\n",
        "\n",
        "## วิธีการเล่นเกมส์ :\n",
        "1. ผู้เล่น สามารถเลือกได้ว่าจะเลือกข้างลูกเต๋าแบบ A หรือ B   \n",
        "\n",
        "1.1  หากเลือกข้าง A ผู้เล่นจะต้องจ่ายเงินเป็นจำนวน 20 บาท\n",
        "\n",
        "1.2  หากเลือกข้าง B ผู้เล่นจะต้องจ่ายเงินเป็นจำนวน 10 บาท\n",
        "\n",
        "2. พนักงานจะทำการโยนลูกเต๋าทั้งสองลูกพร้อมกัน หากข้างที่ผู้เล่นเลือกได้ค่ามากกว่า ผู้เล่นจะได้รางวัลเป็นเงินจำนวน 35 บาท\n",
        "\n"
      ]
    },
    {
      "cell_type": "markdown",
      "metadata": {
        "id": "iy22FunBJhdw",
        "colab_type": "text"
      },
      "source": [
        "## ให้นักศึกษาตอบคำถามต่อไปนี้"
      ]
    },
    {
      "cell_type": "markdown",
      "metadata": {
        "id": "ixT1DvnZJsl1",
        "colab_type": "text"
      },
      "source": [
        "1)  จำนวนความเป็นไปได้ของรูปแบบของหน้าของลูกเต๋า จากการโยนของพนักงงานนั้น เป็นไปได้กี่แบบ ?\n"
      ]
    },
    {
      "cell_type": "markdown",
      "metadata": {
        "id": "vII_Nf3uJ0Ul",
        "colab_type": "text"
      },
      "source": [
        "### ตอบ:"
      ]
    },
    {
      "cell_type": "markdown",
      "metadata": {
        "id": "3rjQwlqdJZIp",
        "colab_type": "text"
      },
      "source": [
        "\n",
        "\n",
        "\n",
        " 2) โอกาสความเป็นไปได้ของผู้เล่นที่จะชนะ หากผู้เล่นเลือก ลูกเต๋า A คิดเป็นกี่เปอร์เซนต์ ?\n",
        "\n",
        "\n",
        "\n",
        "\n",
        "\n"
      ]
    },
    {
      "cell_type": "markdown",
      "metadata": {
        "id": "NQ-ZYupwJ9oZ",
        "colab_type": "text"
      },
      "source": [
        "### ตอบ:"
      ]
    },
    {
      "cell_type": "markdown",
      "metadata": {
        "id": "f1882CCtJ-Ge",
        "colab_type": "text"
      },
      "source": [
        "3) โอกาสความเป็นไปได้ของผู้เล่นที่จะชนะ หากผู้เล่นเลือก ลูกเต๋า B คิดเป็นกี่เปอร์เซนต์ ?\n"
      ]
    },
    {
      "cell_type": "markdown",
      "metadata": {
        "id": "nqnab7DiKA09",
        "colab_type": "text"
      },
      "source": [
        "### ตอบ:"
      ]
    },
    {
      "cell_type": "markdown",
      "metadata": {
        "id": "ZOpp-zCtJfLI",
        "colab_type": "text"
      },
      "source": [
        "\n",
        "## ให้นักศึกษาอธิบายเเนวคิด การใช้วิธีการจำลอง (simulation) เพื่อช่วยให้ทางบริษัท ตัดสินใจว่า ควรจะนำเกมส์ต้นแบบนี้ มาใช้ในบริษัทเพื่อเพิ่มรายได้ ให้แก่บริษัทหรือไม่ ได้อย่างไร ?\n",
        "\n",
        "\n",
        "\n",
        "\n"
      ]
    },
    {
      "cell_type": "markdown",
      "metadata": {
        "id": "vzXbTbT_K5-h",
        "colab_type": "text"
      },
      "source": [
        "###ตอบ:"
      ]
    },
    {
      "cell_type": "markdown",
      "metadata": {
        "id": "XM9bcj3KKxQE",
        "colab_type": "text"
      },
      "source": [
        "จากแนวคิดข้างต้น ให้นักศึกษาเขียน Python code  พร้อมสรุปว่า บริษัทควรลงทุนกับเกมส์ชนิดใหม่นี้ หรือไม่ เพราะอะไร ?\n",
        "Hint:  นักศึกษาสามารถตั้งสมมติฐานอัตราส่วนของผู้เล่นใน แต่ละแบบเพื่อทำการวิเคราะห์ ผลกำไร และขาดทุนในแบบ ต่าง ๆ   \n"
      ]
    },
    {
      "cell_type": "code",
      "metadata": {
        "id": "oNYk424QbbeR",
        "colab_type": "code",
        "colab": {}
      },
      "source": [
        "# นักศึกษาสามารถ เขียนโคดจากแนวติดของนักศึกษาได้ที่นี่ \n",
        "\n",
        "\n",
        "\n",
        "\n",
        "\n"
      ],
      "execution_count": 0,
      "outputs": []
    },
    {
      "cell_type": "code",
      "metadata": {
        "id": "YDE_hF7iGmsz",
        "colab_type": "code",
        "outputId": "d5600d7c-6537-4518-fa6a-694340816c75",
        "colab": {
          "base_uri": "https://localhost:8080/",
          "height": 365
        }
      },
      "source": [
        "# สำหรับนักศึกษาที่ต้องการ Hint \n",
        "\n",
        "import numpy as np\n",
        "import matplotlib.pyplot as plt\n",
        "\n",
        "np.seed = 1234\n",
        "\n",
        "# กำหนดจำนวนของการทดลอง (ผู้เล่น) ในเเต่ละสมมติฐาน \n",
        "Ntrails = 1000000\n",
        "\n",
        "\n",
        "# กำหนดจำนวนของหน้าลูกเต๋า A\n",
        "nA = 10\n",
        "# กำหนดจำนวนของหน้าลูกเต๋า B\n",
        "nB = 6\n",
        "# cost of playing A\n",
        "cA = 20\n",
        "# cost of playing B\n",
        "cB = 10\n",
        "# reward \n",
        "reward = 35 \n",
        "\n",
        "'''\n",
        "กำหนดสมมติฐาน ให้การเลือกชนิดของลูกเต๋าของลูกค้าเป็นแบบ Binomial distribution \n",
        "กำหนดให้ random variable X = {0, 1} \n",
        " 0 เเทนเหตุการณ์ ที่ลูกค้าเลือกลูกเต๋า A \n",
        " 1 เเทนเหตุการณ์ ที่ลูกค้าเลือกลูกเต๋า B\n",
        " ให้ i เป็นพารามิเตอร์ของ Binomial distribution มีค่าอยู่ระหว่าง 0 ถึง 1 \n",
        "\n",
        "กำหนดให้ p(x = 0) = 1-i   เเทน ความน่าจะเป็นที่ผู้เล่นเลือกเล่นลูกเต๋า A  \n",
        "         p(x = 1) = i     เเทน ความน่าจะเป็นที่ผู้เล่นเลือกเล่นลูกเต๋า B\n",
        "\n",
        "อีกนัยหนึ่ง สามารถอธิบายได้ว่าเรากำหนดให้ i คืออัตราส่วนของผู้เล่นที่ลูกเต๋า แบบ A ต่อแบบ B  \n",
        "โดยให้อัตราส่วน \n",
        "0   หมายถึง ผู้เล่นทุกคนเล่นลูกเต๋า A\n",
        "0.5 หมายถึง โดยเฉลี่ย ครึ่งหนึ่งลูกค้าเล่นลูกเต๋า A อีกครึ่งหนึ่งเล่นลูกเต๋า B\n",
        "1   หมายถึง ผู้เล่นทุกคนเล่นลูกเต๋า A\n",
        "'''\n",
        "\n",
        "# กำหนดตัวแปรเพื่อเก็บค่า normalized Profit  ในแต่ละสมมติฐาน\n",
        "normProfit = []\n",
        "\n",
        "# เราจะ ทำการทดลองสำหรับทุก ๆ สมมุติฐานของ i ที่มีค่าอยู่ระหว่าง 0 - 1\n",
        "fraction = np.linspace(0,1,100);\n",
        "# สำหรับแต่ละ สมมุติฐาน\n",
        "for i in fraction:\n",
        "  \n",
        "  # เติมโค้ดของนักศึกษา พยายามใช้ Vector operations  ลดการใช้ for \n",
        "  # ในที่นี้กำหนดให้เป็น Binomial distribution   random variable X = {0, 1} \n",
        "  # 0 เเทนเหตุการณ์ ที่ลูกค้าเลือกลูกเต๋า A \n",
        "  # 1 เเทนเหตุการณ์ ที่ลูกค้าเลือกลูกเต๋า B\n",
        "  # กำหนดให้ p(x = 0) = 1-i    , p(x = 1) = i   \n",
        "  \n",
        "  # ทำการสร้าง random vector ของ uniform distribution ระหว่างค่า 0-1 โดยกำหนดให้ขนาดของ vector = 1 x Ntrails\n",
        "  C = np.random.uniform(0,1,Ntrails)\n",
        "  # ทำการสร้าง vector ของ random choice ของการเลือกชนิดของลูกเต๋าจาก distribution ของสมมุติฐาน\n",
        "  bC = C > i  #  boolean indexing ของ random variable \n",
        "  # เติมโค้ดต่อ นะครับ \n",
        " \n",
        "  \n",
        "  \n",
        "  # คำนวณรายได้ของการเก็บเงินล่วงหน้า\n",
        "  Paying_inadvance  = cA*Num_ofPlayingA +cB*Num_ofPlayingB\n",
        "  \n",
        "  \n",
        "  # How much does the customers gain?\n",
        "  # คำนวณหารายได้ ของลูกค้ากรณีที่ลูกค้าเลือกลูกเต๋า A \n",
        "  gainA = 0 \n",
        "  \n",
        "  # คำนวณหารายได้ ของลูกค้ากรณีที่ลูกค้าเลือกลูกเต๋า B \n",
        "  gainB = 0\n",
        "\n",
        "  \n",
        "  normProfit.append( (Paying_inadvance - gainA - gainB)/ Ntrails)\n",
        "\n",
        "  \n",
        "plt.plot(fraction,normProfit)"
      ],
      "execution_count": 0,
      "outputs": [
        {
          "output_type": "execute_result",
          "data": {
            "text/plain": [
              "[<matplotlib.lines.Line2D at 0x7fec27e4b710>]"
            ]
          },
          "metadata": {
            "tags": []
          },
          "execution_count": 1
        },
        {
          "output_type": "display_data",
          "data": {
            "image/png": "[encoded data removed]",
            "text/plain": [
              "<Figure size 576x396 with 1 Axes>"
            ]
          },
          "metadata": {
            "tags": []
          }
        }
      ]
    },
    {
      "cell_type": "markdown",
      "metadata": {
        "id": "LY03ny-yfKkE",
        "colab_type": "text"
      },
      "source": [
        "## จากการทำ Simulation ให้นักศึกษาทำการสรุปผลการทดลอง   บริษัทจะได้กำไรหรือ ขาดทุนเมือไหร่   \n"
      ]
    },
    {
      "cell_type": "markdown",
      "metadata": {
        "id": "qllRvFrcf7FD",
        "colab_type": "text"
      },
      "source": [
        "###ตอบ:"
      ]
    },
    {
      "cell_type": "markdown",
      "metadata": {
        "id": "1e1jQNI1gAtS",
        "colab_type": "text"
      },
      "source": [
        "### ให้นักศึกษาทดลอง ปรับแก้ Parameters ของปัญหาเพื่อศึกษา พฤติกรรมของระบบ ตามสมมติฐานต่าง ๆ ที่นักศึกษาตั้งขึ้น ยกตัวอย่างเช่น  ตัวแปรจำนวนหน้าของลูกเต๋า,  อัตราค่าเล่นเกมส์  / รางวัล\n",
        "\n",
        "\n",
        "### ทำการเลือก Parameters ที่เหมาะสมพร้อมอธิบายว่าเพราะเหตุใดนักศึกษาถึงเลือก Parameter เหล่านั้น"
      ]
    },
    {
      "cell_type": "markdown",
      "metadata": {
        "id": "TmV-f2wNnKH3",
        "colab_type": "text"
      },
      "source": [
        "### ตอบ:"
      ]
    }
  ]
}