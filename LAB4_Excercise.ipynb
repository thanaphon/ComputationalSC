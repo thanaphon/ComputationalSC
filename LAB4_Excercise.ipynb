{
  "nbformat": 4,
  "nbformat_minor": 0,
  "metadata": {
    "colab": {
      "name": "LAB4_Excercise.ipynb",
      "version": "0.3.2",
      "provenance": [],
      "include_colab_link": true
    },
    "kernelspec": {
      "name": "python3",
      "display_name": "Python 3"
    }
  },
  "cells": [
    {
      "cell_type": "markdown",
      "metadata": {
        "id": "view-in-github",
        "colab_type": "text"
      },
      "source": [
        "<a href=\"https://colab.research.google.com/github/thanaphon/ComputationalSC/blob/master/LAB4_Excercise.ipynb\" target=\"_parent\"><img src=\"https://colab.research.google.com/assets/colab-badge.svg\" alt=\"Open In Colab\"/></a>"
      ]
    },
    {
      "cell_type": "markdown",
      "metadata": {
        "id": "9vXGMnFkuZ9b",
        "colab_type": "text"
      },
      "source": [
        "## Excercise 1:\n",
        "\n",
        "ศึกษา characteristics ของ Numpy Array\n",
        "\n",
        "1.  Create a 2-D array of shape (2, 4) containing two lists (range(4), range(10, 14))\n",
        "and assign it to the variable \"arr\".\n",
        "2. Print the **shape** of the array.\n",
        "3. Print the **size** of the array.\n",
        "4. Print the **maximum** and **minimum** of the array.\n"
      ]
    },
    {
      "cell_type": "code",
      "metadata": {
        "id": "_j5HHGNtuGpV",
        "colab_type": "code",
        "colab": {}
      },
      "source": [
        "# Add your code here\n"
      ],
      "execution_count": 0,
      "outputs": []
    },
    {
      "cell_type": "markdown",
      "metadata": {
        "id": "TMOBtm7svkHn",
        "colab_type": "text"
      },
      "source": [
        "## Excercise 2:\n",
        "\n",
        "  การจัดการ Array เบื้องต้น\n",
        "1. Continue to use the array \"arr\" as defined above.\n",
        "2. Print the array **re-shaped** to (2, 2, 2).\n",
        "3. Print the array **transposed**.\n",
        "4. Print the array **flattened** to a single dimension.\n",
        "5. Print the array **converted to floats**."
      ]
    },
    {
      "cell_type": "code",
      "metadata": {
        "id": "AfwDaWo5wc4P",
        "colab_type": "code",
        "colab": {}
      },
      "source": [
        "# Add your code here"
      ],
      "execution_count": 0,
      "outputs": []
    },
    {
      "cell_type": "markdown",
      "metadata": {
        "id": "69Ls8BVcxT8a",
        "colab_type": "text"
      },
      "source": [
        "## Excercise 3:\n",
        "\n",
        " การคำนวณโดยอาศัย Array เบื้องต้น\n",
        " \n",
        "1. Create a 2-D array of shape (2, 4) containing two lists (range(4), range(10, 14)) and\n",
        "assign it to the variable \"a\".\n",
        "2. Create an array from a list [2, -1, 1, 0] and assign it to the variable \"b\".\n",
        "3. Multiply array \"a\" by \"b\" and view the result. Do you understand how NumPy has used its\n",
        "broadcasting feature to do the calculation even though the arrays are different shapes?\n",
        "4. Multiply array \"b\" by 100 and assign the result to the variable \"b1\".\n",
        "5. Multiply array \"b\" by 100.0 and assign the result to the variable \"b2\".\n",
        "6. Print the arrays \"b1\" and \"b2\".\n",
        "7. Print \"b1 == b2\". Are they the same?\n",
        "8. Why do they display differently? Interrogate the typecode of each array to find out why.\n",
        "\n",
        "\n",
        "\n"
      ]
    },
    {
      "cell_type": "code",
      "metadata": {
        "id": "Gj8AiVyc9oIB",
        "colab_type": "code",
        "colab": {}
      },
      "source": [
        "import numpy as np\n",
        "a = np.array([[1,2],[3,4]])\n",
        "b = np.array([[5,6],[7,8]])\n",
        "print(\"Element wise: \\n\", np.multiply(a,b)) #Element wise multiplication\n",
        "print(\"Element wise: \\n\", a*b) # same as\n",
        "print(\"Mat mul: \\n\", np.matmul(a,b))  \n"
      ],
      "execution_count": 0,
      "outputs": []
    },
    {
      "cell_type": "code",
      "metadata": {
        "id": "gLxtiWVZyVFk",
        "colab_type": "code",
        "colab": {}
      },
      "source": [
        "# Add your code here"
      ],
      "execution_count": 0,
      "outputs": []
    },
    {
      "cell_type": "markdown",
      "metadata": {
        "id": "JVi7rA9V0RfK",
        "colab_type": "text"
      },
      "source": [
        " ##  Excercise 4: array comparisons.  (using where to return an array indexing that satisfy the given condition)\n",
        "1. Create an array of values 0 to 9 and assign it to the variable \"arr\".\n",
        "2. Print an expression condition where the array is less than 3.\n",
        "3. Print out elements ของ arr ที่มีค่าน้อยกว่า 3 \n",
        "4.  Print out elements ของ arr ที่มีค่าน้อยกว่า 3 หรือมากกว่า 6\n",
        "\n",
        "Hint: np.logical_or() "
      ]
    },
    {
      "cell_type": "code",
      "metadata": {
        "id": "38q5HRET5Cpc",
        "colab_type": "code",
        "colab": {}
      },
      "source": [
        "#Add your code here"
      ],
      "execution_count": 0,
      "outputs": []
    },
    {
      "cell_type": "markdown",
      "metadata": {
        "id": "J4OAvoGE4t4M",
        "colab_type": "text"
      },
      "source": [
        "## Excercise 5:  Let's implement a mathematical function that works on arrays.\n",
        "1. เขียน function  calMagnitude(U,V): ที่รับ Input:  2-D array  $U,V$  ขนาด $M \\times N$   และทำการ return $Z$ ซึ่งเป็น Array ขนาด สองมิติขนาดเช่นเดียวกันกับ input array \n",
        "โดย ค่าที่ แถวที่ $i$ หลัก ที่ $j:Z_{ij} $  คือค่ารากที่สองของผลบวกยกกำลังสองของ $U_{ij}$ และ $V_{ij}$ \n",
        "\n",
        "$$Z_{ij}  = \\sqrt(U_{ij}^2 +  V_{ij}^2)$$\n",
        "\n",
        "\n",
        "โดยมีเงื่อนไขเพิ่มเติมคือ ถ้าค่า $Z_{ij}$ ที่คำนวณได้มีค่า น้อยกว่า 0.1 ให้ กำหนดให้ $Z_{ij}$ มีค่าเป็น 0.1  (default minimum magnitude)\n",
        "ให้นักศึกษาพยายาม implement function calMagnitude โดยอาศัยการคำนวณแบบ vectorization\n",
        "\n",
        "Hint: np.where( condition, case1, case2)\n"
      ]
    },
    {
      "cell_type": "code",
      "metadata": {
        "id": "Sr5Bz1hKHla9",
        "colab_type": "code",
        "colab": {}
      },
      "source": [
        "# Define your function here\n"
      ],
      "execution_count": 0,
      "outputs": []
    },
    {
      "cell_type": "markdown",
      "metadata": {
        "id": "UwA-ZD2NHmJ9",
        "colab_type": "text"
      },
      "source": [
        "2. Test your function on u and v  of values: [[4, 5, 6], [2, 3, 4]] and [[2,\n",
        "2, 2], [1, 1, 1]]\n",
        "3. Test your function on u and v  of values: [[4, 5, 0.01], [2, 3, 4]] and \n",
        "[[2, 2, 0.03], [1, 1, 1]]. Does your default minimum magnitude get used?"
      ]
    },
    {
      "cell_type": "code",
      "metadata": {
        "id": "in-brtfsJdku",
        "colab_type": "code",
        "colab": {}
      },
      "source": [
        "#Test your code here"
      ],
      "execution_count": 0,
      "outputs": []
    }
  ]
}