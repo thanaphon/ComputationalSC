{
  "nbformat": 4,
  "nbformat_minor": 0,
  "metadata": {
    "colab": {
      "name": "LAB 9: Ordinary Differential Equation.ipynb",
      "version": "0.3.2",
      "provenance": [],
      "include_colab_link": true
    },
    "kernelspec": {
      "name": "python3",
      "display_name": "Python 3"
    }
  },
  "cells": [
    {
      "cell_type": "markdown",
      "metadata": {
        "id": "view-in-github",
        "colab_type": "text"
      },
      "source": [
        "<a href=\"https://colab.research.google.com/github/thanaphon/ComputationalSC/blob/master/LAB_9_Ordinary_Differential_Equation.ipynb\" target=\"_parent\"><img src=\"https://colab.research.google.com/assets/colab-badge.svg\" alt=\"Open In Colab\"/></a>"
      ]
    },
    {
      "cell_type": "markdown",
      "metadata": {
        "id": "Vnv2oYLN1Xn2",
        "colab_type": "text"
      },
      "source": [
        "## LAB 9: Ordinary Differential Equation"
      ]
    },
    {
      "cell_type": "markdown",
      "metadata": {
        "id": "ZhCfAqwKMOhi",
        "colab_type": "text"
      },
      "source": [
        "## ให้นักศึกษาเขียนชื่อ และรหัสนักศึกษาลงใน jupyter notebook\n",
        "\n",
        "## Name:  \n",
        "\n",
        "## StudentID: \n",
        "\n",
        "## Section: "
      ]
    },
    {
      "cell_type": "markdown",
      "metadata": {
        "id": "28noWYPfMbZb",
        "colab_type": "text"
      },
      "source": [
        "วัตถุประสงค์:\n",
        "\n",
        "1) เข้าใจถึง concept ของ sequence และการโมเดลการเปลี่ยนแปลงของ sequence โดยอาศัย ODE \n",
        "\n",
        "2) สามารถแปลง differential equation ที่โจทย์กำหนดให้ ให้อยู่ในรูปของ model function \n",
        "\n",
        "3) สามารถเขียน ODE solver โดยอาศัย Euler's method และ midpoint medthod ได้ และเข้าใจถึงข้อแตกต่างของทั้งสองวิธี รวมถึงข้อดีข้อเสีย\n",
        "\n",
        "4) ทดลองใช้ module odeint  ในการแก้สมการ ODE  \n"
      ]
    },
    {
      "cell_type": "markdown",
      "metadata": {
        "id": "LmkiGbioQ7D0",
        "colab_type": "text"
      },
      "source": [
        "### Difference equations\n",
        "\n",
        "\n",
        "*   For sequences occuring in modeling of real-world phenomena, there is seldom a formula for the  n -th term\n",
        "*   However, we can often set up one or more equations governing the sequence. Such equations are called difference equations\n",
        "\n",
        "* With a computer it is then very easy to generate the sequence by solving the difference equations\n",
        "\n",
        "* Difference equations have lots of applications and are very easy to solve on a computer, but often complicated or impossible to solve for  $x_n$  (as a formula) by pen and paper!\n",
        "\n",
        "* The programs require only loops and arrays"
      ]
    },
    {
      "cell_type": "markdown",
      "metadata": {
        "id": "ZfyFoh2HR_37",
        "colab_type": "text"
      },
      "source": [
        "## Problem formulation\n",
        "\n",
        "โจทย์กำหนดให้:   $\\frac{d(y)}{d(t)} = f(y,t)$  และ ค่าเริ่มต้น $y(t_0) = y_0$\n",
        "\n",
        "ให้หา function $y(t)$ ซึ่ง derivative ของ $y$ เท่ากับ $f$ ที่โจทย์กำหนดให้  \n",
        "\n",
        "\n",
        "## 1) Numerical Solution:   Euler's method \n",
        "\n",
        "กำหนด $y_0$  เราสามารถใช้สมการ update ในการคำนวณ sequence $y_n$   ได้โดยอาศัยสมการ\n",
        "\n",
        "$$ \\large  y_{n+1} = y_n + h*f(y_n,t_n)    $$\n",
        "\n",
        "\n",
        "\n",
        "พิสูจน์: \n",
        "\n",
        "กำหนดให้    $t_{n+1} = t_n + h $   โดยที่ $h$ คือ step size ของ sequence $t$\n",
        "\n",
        "$y_n \\approx  y(t_n)$\n",
        "\n",
        "$\\frac{dy(t_n)}{dt} =   \\frac{ y(t_n + h)  - y(t_n)}{h}$\n",
        "\n",
        "$\\frac{y(t_n+1) - y(t_n)}{h} \\approx f( y(t_n),t_n)$\n",
        "\n",
        "$y_{n+1} = y_n + h*f(y_n,t_n)$"
      ]
    },
    {
      "cell_type": "markdown",
      "metadata": {
        "id": "QXvhFilKaf6p",
        "colab_type": "text"
      },
      "source": [
        "### จาก update equation ที่กำหนดให้  ให้นักศึกษา เติม code ที่ขาดไป ให้สมบูรณ์"
      ]
    },
    {
      "cell_type": "code",
      "metadata": {
        "id": "I4dMFG4OMNwi",
        "colab_type": "code",
        "colab": {}
      },
      "source": [
        "import numpy as np\n",
        "import matplotlib.pyplot as plt\n",
        "\n",
        "def ode1(F, t0, h, tfinal, y0 ):\n",
        "  '''\n",
        "  F is first order EQ\n",
        "  t0  is the beginning time \n",
        "  h   is the step size\n",
        "  tfinal is the last time\n",
        "  y0  is the initial condition\n",
        "  '''\n",
        "  \n",
        "  #Initialize values \n",
        "  #กำหนดตัวแปรสำหรับเก็บ sequence ของผลลัพธ์\n",
        "  yout = []        \n",
        "  #เพิ่ม y0 เป็นค่าเเรกของ sequence \n",
        "  yout.append(y0)   \n",
        "  #สร้าง linspace ของ time domain กำหนดให้เริ่มต้นจาก t0 จนถึง t_final โดยให้ค่าเพิ่มที่ละ h หน่วย\n",
        "  T = np.linspace(t0,tfinal,int((tfinal-t0) / h)+1)  \n",
        "  \n",
        "  y = y0\n",
        "  \n",
        "  # สำหรับแต่ละค่า ti ใน array T (สำหรับแต่ละ time step)\n",
        "  for ti in T[1:]:\n",
        "    # ใช้สมการของ Euler ในการ update sequence y \n",
        "    # ให้นักศึกษาเติม code ให้สมบูรณ์\n",
        "    \n",
        "   \n",
        "    \n",
        "  return (T,yout)\n"
      ],
      "execution_count": 0,
      "outputs": []
    },
    {
      "cell_type": "code",
      "metadata": {
        "id": "nYteoj29a30X",
        "colab_type": "code",
        "outputId": "e32832fd-081f-4396-b2a3-379dd3e51bd4",
        "colab": {
          "base_uri": "https://localhost:8080/",
          "height": 302
        }
      },
      "source": [
        "# ตัวอย่าง โมเดลของ compound interest problem (ดอกเบี้ย 3 %) นักศึกษาสามารถเขียน function model เหล่านี้ในรูปของ lambda function ได้เช่นเดียวกัน\n",
        "def model(y,t):\n",
        "  k = 0.03\n",
        "  dydt = k*y\n",
        "  return dydt\n",
        "\n",
        "T, y = ode1(model, 0, 0.01, 20 , y0=100)   # ทำการ solve หา sequence ของ y_0 .... y_20 โดยให้ค่าเริ่มต้น y_0 = 100\n",
        "plt.plot(T,y,'r',label = 'y')\n",
        "plt.xlabel('time')\n",
        "plt.ylabel('y(t)')\n",
        "plt.legend()\n"
      ],
      "execution_count": 0,
      "outputs": [
        {
          "output_type": "execute_result",
          "data": {
            "text/plain": [
              "<matplotlib.legend.Legend at 0x7fead9a14da0>"
            ]
          },
          "metadata": {
            "tags": []
          },
          "execution_count": 5
        },
        {
          "output_type": "display_data",
          "data": {
            "image/png": "[encoded data removed]",
            "text/plain": [
              "<Figure size 432x288 with 1 Axes>"
            ]
          },
          "metadata": {
            "tags": []
          }
        }
      ]
    },
    {
      "cell_type": "markdown",
      "metadata": {
        "id": "jUnuZ4Bee7Mg",
        "colab_type": "text"
      },
      "source": [
        "## 2 Numerical solution: Midpoint method\n",
        "\n",
        "กำหนด $y_0$  เราสามารถใช้สมการ update ในการคำนวณ sequence $y_n$   ได้โดยอาศัยสมการ\n",
        "\n",
        "$$ \\large y_{n+1} = y_n +  h*s_2$$\n",
        "\n",
        "โดยที่ \n",
        "\n",
        "$s_2 = f(y_n+\\frac{h}{2}*s_1  ,  t_n+\\frac{h}{2} )$\n",
        "\n",
        "$s_1 = f(y_n,  t_n )$\n",
        "\n",
        "IDEA: ใช้อัตราการเปลี่ยนแปลงที่ตำแหน่งกึ่งกลาง ในการ update (เสมือนกับการทำ Euler's update สองครั้ง) \n",
        "\n",
        "ข้อดีคือลดความคลาดเคลื่อนในกรณีที่  $y'$ นั้นมีการเปลี่ยนแปลงอย่างรวดเร็ว   ยกตัวอย่างเช่นในกรณีที่ $y = f(t)$ อยู่ใน exponential function family"
      ]
    },
    {
      "cell_type": "markdown",
      "metadata": {
        "id": "bEB2bqdggfKs",
        "colab_type": "text"
      },
      "source": [
        "### จาก update equation ที่กำหนดให้  ให้นักศึกษา เติม code ที่ขาดไป ให้สมบูรณ์"
      ]
    },
    {
      "cell_type": "code",
      "metadata": {
        "id": "qBZtkqZAggez",
        "colab_type": "code",
        "outputId": "e8ac4b6b-4fbe-4553-f650-e96ac9b2ca65",
        "colab": {
          "base_uri": "https://localhost:8080/",
          "height": 302
        }
      },
      "source": [
        "import numpy as np\n",
        "import matplotlib.pyplot as plt\n",
        "\n",
        "def ode2(F, t0, h, tfinal, y0 ):\n",
        "  '''\n",
        "  F is first order EQ\n",
        "  t0  is the beginning time \n",
        "  h   is the step size\n",
        "  tfinal is the last time\n",
        "  y0  is the initial condition\n",
        "  '''\n",
        "  # Implement your code here \n",
        "  \n",
        "    \n",
        "  return (T,yout)\n",
        "\n",
        "\n",
        "# ตัวอย่าง โมเดลของ compound interest problem (ดอกเบี้ย 3 %)\n",
        "def model(y,t):\n",
        "  k = 0.03\n",
        "  dydt = k*y\n",
        "  return dydt\n",
        "\n",
        "\n",
        "y0 = 100  \n",
        "h  = 0.01\n",
        "t0 = 0\n",
        "tend = 20\n",
        "\n",
        "T, y = ode2(model,t0,h,tend, y0)  # ทำการ solve หา sequence ของ y_0 .... y_20 โดยให้ค่าเริ่มต้น y_0 = 100\n",
        "plt.plot(T,y,'r',label = 'y')\n",
        "plt.xlabel('time')\n",
        "plt.ylabel('y(t)')\n",
        "plt.legend()\n",
        "\n"
      ],
      "execution_count": 0,
      "outputs": [
        {
          "output_type": "execute_result",
          "data": {
            "text/plain": [
              "<matplotlib.legend.Legend at 0x7fead9a38a20>"
            ]
          },
          "metadata": {
            "tags": []
          },
          "execution_count": 6
        },
        {
          "output_type": "display_data",
          "data": {
            "image/png": "[encoded data removed]",
            "text/plain": [
              "<Figure size 432x288 with 1 Axes>"
            ]
          },
          "metadata": {
            "tags": []
          }
        }
      ]
    },
    {
      "cell_type": "markdown",
      "metadata": {
        "id": "VOPK-IzxMu38",
        "colab_type": "text"
      },
      "source": [
        "--- \n",
        "### ODEINT \n",
        "ในปัจจุบัน ODE solver ได้มีการพัฒนามาอย่างต่อเนื่อง ยกตัวอย่างเช่นใน Matlab มีการพัฒนามาถึง version ที่ 45  (เราเรียนเพียงแค่ 2 version เเรกสุด) \n",
        "สำหรับ Part นี้ นักศึกษาจะได้ลองใช้ ODE solver module ที่ implement  ใน Python\n",
        "\n",
        "ODEINT เป็น ODE solver  ที่สามารถเรียกใช้ได้ใน Python ซึ่ง module ตัวนี้จะทำการ encapsulate  lsoda solver อีกทีหนึ่ง   \n",
        "( http://www.oecd-nea.org/tools/abstract/detail/uscd1227)\n",
        "\n",
        "\n",
        "นอกเรื่อง : \n",
        "ตารางการเปรียบเทียบ ODE solvers ในภาษาต่าง ๆ \n",
        "http://www.stochasticlifestyle.com/comparison-differential-equation-solver-suites-matlab-r-julia-python-c-fortran/\n",
        "\n",
        "### การเรียกใช้  ODEINT  \n",
        "\n",
        "ทำการ import module จาก scipy \n",
        "from scipy.integrate import odeint\n",
        "\n",
        "การเรียกใช้\n",
        "https://docs.scipy.org/doc/scipy/reference/generated/scipy.integrate.odeint.html\n",
        "\n",
        "สรุปการใช้งานหลัก ๆ : ฟังก์ชัน odeint รับ input parameter หลัก ๆ 3 หรือ 4 ตัว\n",
        "\n",
        "### y = odeint(model, y0,T, args (optional))\n",
        "\n",
        "### INPUT \n",
        "Model :  Ode function  f(y,t, args(option))\n",
        "               Note: ในกรณีที่ระบบ มีมากกว่า 1 ตัวแปรเราสามารถ กำหนดให้ y เป็น vector ของตัวแปรได้\n",
        "\n",
        "y0        :  ค่าเริ่มต้น ของ series \n",
        "               Note: ในกรณีที่ระบบ มีมากกว่า 1 ตัวแปรเราสามารถ กำหนดให้ v0 เป็น vector ของค่าเริ่มต้นของแต่ละตัวแปรได้\n",
        "\n",
        "T           :  array ของ time domain ที่ต้องการ  โดยทั่วไปเราจะใช้ linspace ในการสร้าง \n",
        "\n",
        "args     :  ในกรณีที่ Model รับ parameters เพิ่มเติมเราสามารถส่ง tuple input ให้กับ model  ได้ \n",
        "\n",
        "### OUTPUT \n",
        "solution $y_t$\n",
        "\n",
        "\n",
        "----\n",
        "ตัวอย่าง :  กำหนดให้ \n",
        "\n",
        "\n",
        "\n",
        "$$ \\frac{dy(t)}{ dt} =0.3 *y(t) $$\n",
        "$$ y(0)= 5$$\n",
        "\n",
        "ทำการ Plot   $y_t,  t = [0-20] $"
      ]
    },
    {
      "cell_type": "code",
      "metadata": {
        "id": "MXJGePPKFa1l",
        "colab_type": "code",
        "outputId": "eb305287-48db-4afc-a07e-bb6fb14c10aa",
        "colab": {
          "base_uri": "https://localhost:8080/",
          "height": 320
        }
      },
      "source": [
        "import numpy as np\n",
        "from scipy.integrate import odeint\n",
        "import matplotlib.pyplot as plt\n",
        "\n",
        "def model(y,t):\n",
        "  dydt = 0.3*y  \n",
        "  return dydt\n",
        "#  สามารถเขียนให้กระชับลงได้ดังนี้ model = lambda y,t: 0.3*y\n",
        "\n",
        "\n",
        "\n",
        "# Initial values\n",
        "y0 = 5\n",
        "t =  np.linspace(0,20,100)\n",
        "\n",
        "# Solve for y(t)\n",
        "y = odeint(model, y0,t)\n",
        "\n",
        "# Plot \n",
        "plt.plot(t,y)\n",
        "plt.xlabel('time')\n",
        "plt.ylabel('y(t)')\n",
        "plt.legend()"
      ],
      "execution_count": 0,
      "outputs": [
        {
          "output_type": "stream",
          "text": [
            "No handles with labels found to put in legend.\n"
          ],
          "name": "stderr"
        },
        {
          "output_type": "execute_result",
          "data": {
            "text/plain": [
              "<matplotlib.legend.Legend at 0x7f775afd9a20>"
            ]
          },
          "metadata": {
            "tags": []
          },
          "execution_count": 1
        },
        {
          "output_type": "display_data",
          "data": {
            "image/png": "[encoded data removed]",
            "text/plain": [
              "<Figure size 432x288 with 1 Axes>"
            ]
          },
          "metadata": {
            "tags": []
          }
        }
      ]
    },
    {
      "cell_type": "code",
      "metadata": {
        "id": "Bi45ZZBaHcu_",
        "colab_type": "code",
        "outputId": "f6c188e5-b85d-4209-f40a-46173dd41911",
        "colab": {
          "base_uri": "https://localhost:8080/",
          "height": 302
        }
      },
      "source": [
        "#กรณีที่เรามี arguments k \n",
        "def model(y,t,k):\n",
        "  dydt = -k*y\n",
        "  return dydt\n",
        "\n",
        "\n",
        "y0 = 5\n",
        "t =  np.linspace(0,20,100)\n",
        "k = 0.1\n",
        "\n",
        "# args = (k,)  ระบุถึง parameter ซึ่งเป็น tuple (ในกรณีนี้มีสมาชิกเพียงหนึ่งตัว)\n",
        "y1 = odeint(model, y0,t, (k,))\n",
        "k = 0.3\n",
        "y2 = odeint(model, y0,t, (k,))\n",
        "k = 0.5\n",
        "y3 = odeint(model, y0,t, (k,))\n",
        "\n",
        "plt.plot(t,y1,label = 'k=0.1')\n",
        "plt.plot(t,y2,label = 'k=0.3')\n",
        "plt.plot(t,y3,label = 'k=0.5')\n",
        "plt.xlabel('time')\n",
        "plt.ylabel('y(t)')\n",
        "plt.legend()"
      ],
      "execution_count": 0,
      "outputs": [
        {
          "output_type": "execute_result",
          "data": {
            "text/plain": [
              "<matplotlib.legend.Legend at 0x7fead27d1588>"
            ]
          },
          "metadata": {
            "tags": []
          },
          "execution_count": 12
        },
        {
          "output_type": "display_data",
          "data": {
            "image/png": "[encoded data removed]",
            "text/plain": [
              "<Figure size 432x288 with 1 Axes>"
            ]
          },
          "metadata": {
            "tags": []
          }
        }
      ]
    },
    {
      "cell_type": "markdown",
      "metadata": {
        "id": "CWjM7V1IggPE",
        "colab_type": "text"
      },
      "source": [
        "### ให้นักศึกษา Plot $y_t$ จากโมเดลที่กำหนดให้  \n",
        "\n",
        "\n",
        "$$ \\frac{dy(t)}{ dt} = 3y(t) $$\n",
        "$$ y(0)= 10$$\n",
        "\n",
        "\n",
        "เพื่อแสดงทำให้เห็นถึง ความแตกต่างของการ update แบบ Euler's, Midpoint Method, และ ODEINT  ให้นักศึกษา  plot $y_t$ ของทั้งสามวิธีด้วย semilogy plot    \n"
      ]
    },
    {
      "cell_type": "code",
      "metadata": {
        "id": "2BpNsg5IlO6M",
        "colab_type": "code",
        "outputId": "3f44a931-2d30-47bb-f34d-4b9f649f0a6b",
        "colab": {
          "base_uri": "https://localhost:8080/",
          "height": 344
        }
      },
      "source": [
        "def myModel(y,t):\n",
        "  #'Implement the given  model here'  \n",
        "  \n",
        "  \n",
        "  return dydt\n",
        "\n",
        "\n",
        "y0 = 10  \n",
        "h  = 0.5\n",
        "t0 = 0\n",
        "tend = 30\n",
        "\n",
        "T= np.linspace(t0,tend,(tend-t0)/h+1)\n",
        "\n",
        "#เขียน code เพื่อแก้สมการ ODE และทำการ plot semilogy ให้นักศึกษาใส่ plot label ของแต่ละวิธีลงไปด้วย (ดูตัวอย่างด้านบน)\n",
        "y = odeint(model, y0,T)\n",
        "\n",
        "plt.plot(T,y)\n"
      ],
      "execution_count": 0,
      "outputs": [
        {
          "output_type": "stream",
          "text": [
            "/usr/local/lib/python3.6/dist-packages/ipykernel_launcher.py:15: DeprecationWarning: object of type <class 'float'> cannot be safely interpreted as an integer.\n",
            "  from ipykernel import kernelapp as app\n"
          ],
          "name": "stderr"
        },
        {
          "output_type": "execute_result",
          "data": {
            "text/plain": [
              "[<matplotlib.lines.Line2D at 0x7f775af2bac8>]"
            ]
          },
          "metadata": {
            "tags": []
          },
          "execution_count": 5
        },
        {
          "output_type": "display_data",
          "data": {
            "image/png": "[encoded data removed]",
            "text/plain": [
              "<Figure size 432x288 with 1 Axes>"
            ]
          },
          "metadata": {
            "tags": []
          }
        }
      ]
    },
    {
      "cell_type": "markdown",
      "metadata": {
        "id": "sLROc30oi_B6",
        "colab_type": "text"
      },
      "source": [
        "ให้นักศึกษาทดลองลดค่าคงที่ $c$ จาก $y' = cy(t)$  ข้างตนเรากำหนดให้ $c = 3$ ให้เป็นค่าที่มีขนาดเล็กลง   < 1 หรือ กำหนดให้ $y' = y(t) + c $  แล้วสังเกตุผลลัพธ์ของทั้งสามวิธี  "
      ]
    },
    {
      "cell_type": "markdown",
      "metadata": {
        "id": "2LM0Sja4kknH",
        "colab_type": "text"
      },
      "source": [
        "### จากผลทดลองข้างต้นสรุปได้ นักศึกษาสามารถสรุปได้ว่า \n",
        "ตอบ :  \n",
        "\n"
      ]
    },
    {
      "cell_type": "markdown",
      "metadata": {
        "id": "fAdtZWPILKYt",
        "colab_type": "text"
      },
      "source": [
        "--- \n",
        "### แบบฝึกหัดที่ 1  จากสมการ ODE ที่กำหนดให้ดังต่อไปนี้ ให้นักศึกษา Plot สมการ y(t)  \n",
        "\n",
        "$$ \\frac{dy(t)}{ dt} = -y(t) + 1 $$\n",
        "$$ y(0)= 0$$"
      ]
    },
    {
      "cell_type": "code",
      "metadata": {
        "id": "W3jMxnq7LgrI",
        "colab_type": "code",
        "outputId": "fedb87ce-b0f2-4608-94e1-bf14e1a8a8d9",
        "colab": {
          "base_uri": "https://localhost:8080/",
          "height": 320
        }
      },
      "source": [
        "#ให้นักศึกษาทำการ define model จากสมการ ODE ที่กำหนดให้\n",
        "\n",
        "def model(y,t):\n",
        "  #Implement the given  model here\n",
        "  return dydt\n",
        "\n",
        "\n",
        "y0 = 0\n",
        "t =  np.linspace(0,20,100)\n",
        "y = odeint(model, y0,t)\n",
        "\n",
        "plt.plot(t,y)\n",
        "plt.xlabel('time')\n",
        "plt.ylabel('y(t)')\n",
        "plt.legend()"
      ],
      "execution_count": 0,
      "outputs": [
        {
          "output_type": "stream",
          "text": [
            "No handles with labels found to put in legend.\n"
          ],
          "name": "stderr"
        },
        {
          "output_type": "execute_result",
          "data": {
            "text/plain": [
              "<matplotlib.legend.Legend at 0x7fa4305deb70>"
            ]
          },
          "metadata": {
            "tags": []
          },
          "execution_count": 15
        },
        {
          "output_type": "display_data",
          "data": {
            "image/png": "[encoded data removed]",
            "text/plain": [
              "<Figure size 432x288 with 1 Axes>"
            ]
          },
          "metadata": {
            "tags": []
          }
        }
      ]
    },
    {
      "cell_type": "markdown",
      "metadata": {
        "id": "l0v6BHJuk-Dg",
        "colab_type": "text"
      },
      "source": [
        "### จาก Model ที่กำหนดให้   มีความสัมพันธ์กับลักษณะของ Solution อย่างไร   ถ้าเปลี่ยน จาก  $y' = -y(t) + 1 $   เป็น    $y' = -y(t) + c $  ลักษณะของกราฟที่ได้ควรจะเป็นอย่างไร \n",
        "\n",
        "ตอบ :\n",
        "  "
      ]
    },
    {
      "cell_type": "markdown",
      "metadata": {
        "id": "uZXbT0dyNNxM",
        "colab_type": "text"
      },
      "source": [
        "\n",
        "\n",
        "--- \n",
        "### แบบฝึกหัดที่ 2\n",
        "\n",
        "$$ \\frac{5 dy(t)}{dt} = -y(t) + 2u(t)$$ \n",
        "\n",
        "$$y(0) = 1$$ \n",
        "\n",
        "where  $ u$ เป็น step function จากค่า 0 ไปยัง 1 ที่เวลา $ t = 10$\n",
        "\n",
        "NOTE:  หน้าที่ของ Step function นั้นคล้าย ๆ กับสวิตเปิดปิด ตามแกนเวลา $u(t < t_0 )=0 $ จนกะทั่ง $t >= t_0 , u(t > =t_0) = 1$  "
      ]
    },
    {
      "cell_type": "code",
      "metadata": {
        "id": "nPbRKR-cL9tP",
        "colab_type": "code",
        "outputId": "e8dac32d-eebe-43ae-9b06-3b0a791692e5",
        "colab": {
          "base_uri": "https://localhost:8080/",
          "height": 320
        }
      },
      "source": [
        "#ให้นักศึกษาทำการ define model จากสมการ ODE ที่กำหนดให้ข้างต้น\n",
        "\n",
        "def model(y,t):\n",
        "  #Implement the given  model here\n",
        "\n",
        "  return dydt\n",
        "\n",
        "\n",
        "y0 = 1\n",
        "t =  np.linspace(0,50,100)\n",
        "y = odeint(model, y0,t)\n",
        "\n",
        "\n",
        "plt.plot(t,y)\n",
        "plt.xlabel('time')\n",
        "plt.ylabel('y(t)')\n",
        "plt.legend()"
      ],
      "execution_count": 0,
      "outputs": [
        {
          "output_type": "stream",
          "text": [
            "No handles with labels found to put in legend.\n"
          ],
          "name": "stderr"
        },
        {
          "output_type": "execute_result",
          "data": {
            "text/plain": [
              "<matplotlib.legend.Legend at 0x7f775af94208>"
            ]
          },
          "metadata": {
            "tags": []
          },
          "execution_count": 6
        },
        {
          "output_type": "display_data",
          "data": {
            "image/png": "[encoded data removed]",
            "text/plain": [
              "<Figure size 432x288 with 1 Axes>"
            ]
          },
          "metadata": {
            "tags": []
          }
        }
      ]
    },
    {
      "cell_type": "markdown",
      "metadata": {
        "id": "1f4rjfuol_TD",
        "colab_type": "text"
      },
      "source": [
        ""
      ]
    },
    {
      "cell_type": "markdown",
      "metadata": {
        "id": "lNoqOngrPdfo",
        "colab_type": "text"
      },
      "source": [
        "--- \n",
        "### ตัวอย่างที่ 3   ในกรณีที่ model ของเรามีหลายตัวแปร เราสามารถ pack update function ได้ดังต่อไปนี้\n",
        "\n",
        "$$\\frac{dx(t)}{dt} = 3 exp(-t)$$\n",
        ".\n",
        "$$ \\frac{dy(t)}{dt} = 3 - y(t)$$\n",
        "Initial condition $$ x(0)= 0 , y(0=0)$$"
      ]
    },
    {
      "cell_type": "code",
      "metadata": {
        "id": "uBC66695RxMD",
        "colab_type": "code",
        "outputId": "d0f5d53a-e0d4-4221-d680-a7555fadc84c",
        "colab": {
          "base_uri": "https://localhost:8080/",
          "height": 302
        }
      },
      "source": [
        "# แบบทีทำละอัน  ซึ่งไม่แนะนำ\n",
        "\n",
        "def modelx(x,t):\n",
        "  dxdt = 3*np.exp(-t)\n",
        "  return dxdt\n",
        "\n",
        "def modely(y,t):\n",
        "  dydt = -y +3\n",
        "  return dydt\n",
        "\n",
        "t =  np.linspace(0,15,100)\n",
        "x = odeint(modelx, 0,t)\n",
        "y = odeint(modely, 0,t)\n",
        "\n",
        "\n",
        "plt.plot(t,y,'r',label = 'y')\n",
        "plt.plot(t,x,'b--',label = 'x')\n",
        "plt.xlabel('time')\n",
        "plt.ylabel('values')\n",
        "plt.legend()\n",
        "\n"
      ],
      "execution_count": 0,
      "outputs": [
        {
          "output_type": "execute_result",
          "data": {
            "text/plain": [
              "<matplotlib.legend.Legend at 0x7fead28d90f0>"
            ]
          },
          "metadata": {
            "tags": []
          },
          "execution_count": 17
        },
        {
          "output_type": "display_data",
          "data": {
            "image/png": "[encoded data removed]",
            "text/plain": [
              "<Figure size 432x288 with 1 Axes>"
            ]
          },
          "metadata": {
            "tags": []
          }
        }
      ]
    },
    {
      "cell_type": "code",
      "metadata": {
        "id": "VYC1YgKkWZeu",
        "colab_type": "code",
        "outputId": "877a1955-45ed-4613-ee37-f191186cd901",
        "colab": {
          "base_uri": "https://localhost:8080/",
          "height": 302
        }
      },
      "source": [
        "# ให้เขียนแบบนี้แทน\n",
        "\n",
        "def modelz(z,t):\n",
        "  x,y = z\n",
        "  dxdt = 3*np.exp(-t)\n",
        "  dydt = -y +3\n",
        "  return [dxdt, dydt]\n",
        "\n",
        "t =  np.linspace(0,15,100)\n",
        "z = odeint(modelz, [0,0] ,t)\n",
        "\n",
        "plt.plot(t,z[:,1],'r',label = 'y')\n",
        "plt.plot(t,z[:,0],'b--',label = 'x')\n",
        "plt.xlabel('time')\n",
        "plt.ylabel('values')\n",
        "plt.legend()"
      ],
      "execution_count": 0,
      "outputs": [
        {
          "output_type": "execute_result",
          "data": {
            "text/plain": [
              "<matplotlib.legend.Legend at 0x7fead26b06a0>"
            ]
          },
          "metadata": {
            "tags": []
          },
          "execution_count": 16
        },
        {
          "output_type": "display_data",
          "data": {
            "image/png": "[encoded data removed]",
            "text/plain": [
              "<Figure size 432x288 with 1 Axes>"
            ]
          },
          "metadata": {
            "tags": []
          }
        }
      ]
    },
    {
      "cell_type": "markdown",
      "metadata": {
        "id": "fvx1OKj7Wf7l",
        "colab_type": "text"
      },
      "source": [
        "--- \n",
        "### แบบฝึกหัดที่ 4 \n",
        "\n",
        "$$ \\frac{2dx(t)}{dt} = -x(t) + u(t)$$\n",
        ".\n",
        "$$  \\frac{5 dy(t)}{dt} = -y(t) + x(t) $$\n",
        ".\n",
        "$$u = 2S(t-5) $$\n",
        ".\n",
        "$$x(0)=0, y(0) = 0$$\n",
        "\n",
        "โดยที่   $S(t-5)$ เป็น step function ที่เปลี่ยนจาก 0 เป็น 1 ที่เวลา $t = 5$, และเมื่อถูกคูณด้วยค่าคงที่ 2  $u$  จึงเป็น step function ที่เปลี่ยนจาก 0  เป็น 2 ที่เวลา $t = 5$ \n",
        "\n",
        "NOTE:  หน้าที่ของ Step function นั้นคล้าย ๆ กับสวิตเปิดปิด ตามแกนเวลา  เมื่อนำไปคูณกับ function ใด ๆ  จึงเหมือนกับการเปิดปิดฟังก์ชั้น นั้น ๆ "
      ]
    },
    {
      "cell_type": "code",
      "metadata": {
        "id": "o_DSwf1HWY59",
        "colab_type": "code",
        "outputId": "5394e4c4-e958-43ed-d03b-5eda2071b615",
        "colab": {
          "base_uri": "https://localhost:8080/",
          "height": 320
        }
      },
      "source": [
        "def modelz(z,t):\n",
        "  # assume z is a tuple of x,y values\n",
        "  #'Implement the given  model here'\n",
        "\n",
        "  return dzdt\n",
        "\n",
        "t =  np.linspace(0,40,1000)\n",
        "sol = odeint(modelz, [0,0],t)\n",
        "print(sol.shape) \n",
        "\n",
        "plt.plot(t,sol[:,1],'r',label = 'y')\n",
        "plt.plot(t,sol[:,0],'b--',label = 'x')\n",
        "plt.xlabel('time')\n",
        "plt.ylabel('amplitude')\n",
        "plt.legend()\n"
      ],
      "execution_count": 0,
      "outputs": [
        {
          "output_type": "stream",
          "text": [
            "(1000, 2)\n"
          ],
          "name": "stdout"
        },
        {
          "output_type": "execute_result",
          "data": {
            "text/plain": [
              "<matplotlib.legend.Legend at 0x7f775ae7e6a0>"
            ]
          },
          "metadata": {
            "tags": []
          },
          "execution_count": 7
        },
        {
          "output_type": "display_data",
          "data": {
            "image/png": "[encoded data removed]",
            "text/plain": [
              "<Figure size 432x288 with 1 Axes>"
            ]
          },
          "metadata": {
            "tags": []
          }
        }
      ]
    }
  ]
}