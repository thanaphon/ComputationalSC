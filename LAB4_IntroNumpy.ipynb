{
  "nbformat": 4,
  "nbformat_minor": 0,
  "metadata": {
    "colab": {
      "name": "LAB4_IntroNumpy.ipynb",
      "version": "0.3.2",
      "provenance": [],
      "include_colab_link": true
    },
    "kernelspec": {
      "name": "python3",
      "display_name": "Python 3"
    }
  },
  "cells": [
    {
      "cell_type": "markdown",
      "metadata": {
        "id": "view-in-github",
        "colab_type": "text"
      },
      "source": [
        "<a href=\"https://colab.research.google.com/github/thanaphon/ComputationalSC/blob/master/LAB4_IntroNumpy.ipynb\" target=\"_parent\"><img src=\"https://colab.research.google.com/assets/colab-badge.svg\" alt=\"Open In Colab\"/></a>"
      ]
    },
    {
      "cell_type": "markdown",
      "metadata": {
        "id": "Wep-AooyGMlT",
        "colab_type": "text"
      },
      "source": [
        "#LAB 4: Numpy Array\n",
        "## Goals: \n",
        "\n",
        "1. เพื่อให้นักศึกษาได้เข้าใจถึงความแตกต่างระหว่าง  List และ Array รวมถึงข้อเด่นข้อด้อย ของ data structure ทั้งสองแบบ   \n",
        "2. เพื่อให้นักศึกษาได้ฝึกการ ใช้ Numpy module ในการสร้าง และ จัดการกับ ข้อมูลชนิด array ใน Python\n",
        "3. เพื่อให้นักศึกษาได้ เข้าใจถึงการคำนวณแบบ Vectorize     \n",
        "\n",
        "\n",
        "References:\n",
        "https://www.machinelearningplus.com/python/numpy-tutorial-part1-array-python-examples/\n",
        "https://www.w3resource.com/python-exercises/numpy/index.php\n",
        "\n",
        "\n"
      ]
    },
    {
      "cell_type": "code",
      "metadata": {
        "id": "8w7r2EdRIevK",
        "colab_type": "code",
        "colab": {}
      },
      "source": [
        ""
      ],
      "execution_count": 0,
      "outputs": []
    },
    {
      "cell_type": "markdown",
      "metadata": {
        "id": "bg4gpLndIfMT",
        "colab_type": "text"
      },
      "source": [
        "Numpy basics\n",
        "https://www.w3resource.com/python-exercises/numpy/index.php\n",
        "\n"
      ]
    },
    {
      "cell_type": "code",
      "metadata": {
        "id": "kAvmICkOGLld",
        "colab_type": "code",
        "outputId": "79f1f827-119f-40e3-ead0-ea31e1b41f94",
        "colab": {
          "base_uri": "https://localhost:8080/",
          "height": 50
        }
      },
      "source": [
        "import numpy as np\n",
        "# Create an 1d array from a list\n",
        "list1 = [0,1,2,3,4]\n",
        "arr1d = np.array(list1)\n",
        "# Print the array and its type\n",
        "print(type(arr1d))\n",
        "arr1d"
      ],
      "execution_count": 0,
      "outputs": [
        {
          "output_type": "stream",
          "text": [
            "<class 'numpy.ndarray'>\n"
          ],
          "name": "stdout"
        },
        {
          "output_type": "execute_result",
          "data": {
            "text/plain": [
              "array([0, 1, 2, 3, 4])"
            ]
          },
          "metadata": {
            "tags": []
          },
          "execution_count": 2
        }
      ]
    },
    {
      "cell_type": "markdown",
      "metadata": {
        "id": "FZAXpSiARZ1t",
        "colab_type": "text"
      },
      "source": [
        "# **1)  The key difference between an array and a list is, arrays are designed to handle vectorized operations while a python list is not.**"
      ]
    },
    {
      "cell_type": "code",
      "metadata": {
        "id": "EKimCD-DRYzD",
        "colab_type": "code",
        "outputId": "e1956f67-deef-46c2-abe4-0df54a04bd44",
        "colab": {
          "base_uri": "https://localhost:8080/",
          "height": 163
        }
      },
      "source": [
        "list1 + 2  # error"
      ],
      "execution_count": 0,
      "outputs": [
        {
          "output_type": "error",
          "ename": "TypeError",
          "evalue": "ignored",
          "traceback": [
            "\u001b[0;31m---------------------------------------------------------------------------\u001b[0m",
            "\u001b[0;31mTypeError\u001b[0m                                 Traceback (most recent call last)",
            "\u001b[0;32m<ipython-input-2-f04c365663c6>\u001b[0m in \u001b[0;36m<module>\u001b[0;34m()\u001b[0m\n\u001b[0;32m----> 1\u001b[0;31m \u001b[0mlist1\u001b[0m \u001b[0;34m+\u001b[0m \u001b[0;36m2\u001b[0m  \u001b[0;31m# error\u001b[0m\u001b[0;34m\u001b[0m\u001b[0;34m\u001b[0m\u001b[0m\n\u001b[0m",
            "\u001b[0;31mTypeError\u001b[0m: can only concatenate list (not \"int\") to list"
          ]
        }
      ]
    },
    {
      "cell_type": "code",
      "metadata": {
        "id": "idUnBof8GMRV",
        "colab_type": "code",
        "outputId": "e65c7654-dc33-4ddc-d598-6c2f8f0fbcad",
        "colab": {
          "base_uri": "https://localhost:8080/",
          "height": 34
        }
      },
      "source": [
        "# Add 2 to each element of arr1d\n",
        "arr1d + 2\n",
        "\n",
        "#> array([2, 3, 4, 5, 6])"
      ],
      "execution_count": 0,
      "outputs": [
        {
          "output_type": "execute_result",
          "data": {
            "text/plain": [
              "array([2, 3, 4, 5, 6])"
            ]
          },
          "metadata": {
            "tags": []
          },
          "execution_count": 3
        }
      ]
    },
    {
      "cell_type": "markdown",
      "metadata": {
        "id": "FPptqNDwR1kW",
        "colab_type": "text"
      },
      "source": [
        "Another characteristic is that, once a numpy array is created, **you cannot increase its size**. To do so, you will have to create a new array. But such a behavior of extending the size is natural in a list\n",
        "\n",
        "\n",
        "## Let's create some more arrays"
      ]
    },
    {
      "cell_type": "code",
      "metadata": {
        "id": "-vymngjwSSpB",
        "colab_type": "code",
        "outputId": "8b931316-826f-4eb0-962a-897057407d3a",
        "colab": {
          "base_uri": "https://localhost:8080/",
          "height": 67
        }
      },
      "source": [
        "# Create a 2d array from a list of lists\n",
        "list2 = [[0,1,2], [3,4,5], [6,7,8]]\n",
        "arr2d = np.array(list2)\n",
        "arr2d\n"
      ],
      "execution_count": 0,
      "outputs": [
        {
          "output_type": "execute_result",
          "data": {
            "text/plain": [
              "array([[0, 1, 2],\n",
              "       [3, 4, 5],\n",
              "       [6, 7, 8]])"
            ]
          },
          "metadata": {
            "tags": []
          },
          "execution_count": 4
        }
      ]
    },
    {
      "cell_type": "markdown",
      "metadata": {
        "id": "Inr7z6W1TELf",
        "colab_type": "text"
      },
      "source": [
        "You may also specify the datatype by setting the dtype argument. Some of the most commonly used numpy dtypes are: 'float', 'int', 'bool', 'str' and 'object'."
      ]
    },
    {
      "cell_type": "code",
      "metadata": {
        "id": "APEeA-y0S0f_",
        "colab_type": "code",
        "outputId": "167eea5d-6b6f-4157-9d4c-5b0494465a00",
        "colab": {
          "base_uri": "https://localhost:8080/",
          "height": 67
        }
      },
      "source": [
        "# Create a float 2d array\n",
        "arr2d_f = np.array(list2, dtype='float')\n",
        "arr2d_f"
      ],
      "execution_count": 0,
      "outputs": [
        {
          "output_type": "execute_result",
          "data": {
            "text/plain": [
              "array([[0., 1., 2.],\n",
              "       [3., 4., 5.],\n",
              "       [6., 7., 8.]])"
            ]
          },
          "metadata": {
            "tags": []
          },
          "execution_count": 5
        }
      ]
    },
    {
      "cell_type": "code",
      "metadata": {
        "id": "vdEREjJVTWmY",
        "colab_type": "code",
        "outputId": "c4de1a2c-910e-491d-a473-a1cb34eb58d5",
        "colab": {
          "base_uri": "https://localhost:8080/",
          "height": 67
        }
      },
      "source": [
        "# Convert to 'int' datatype\n",
        "arr2d_f.astype('int')"
      ],
      "execution_count": 0,
      "outputs": [
        {
          "output_type": "execute_result",
          "data": {
            "text/plain": [
              "array([[0, 1, 2],\n",
              "       [3, 4, 5],\n",
              "       [6, 7, 8]])"
            ]
          },
          "metadata": {
            "tags": []
          },
          "execution_count": 6
        }
      ]
    },
    {
      "cell_type": "code",
      "metadata": {
        "id": "U1aLWH4OTsuf",
        "colab_type": "code",
        "outputId": "b875a7c9-ab6f-471e-c73a-c7c974fd8940",
        "colab": {
          "base_uri": "https://localhost:8080/",
          "height": 67
        }
      },
      "source": [
        "# Convert to int then to str datatype\n",
        "arr2d_f.astype('int').astype('str')"
      ],
      "execution_count": 0,
      "outputs": [
        {
          "output_type": "execute_result",
          "data": {
            "text/plain": [
              "array([['0', '1', '2'],\n",
              "       ['3', '4', '5'],\n",
              "       ['6', '7', '8']], dtype='<U21')"
            ]
          },
          "metadata": {
            "tags": []
          },
          "execution_count": 7
        }
      ]
    },
    {
      "cell_type": "markdown",
      "metadata": {
        "id": "1dCFoNjITyC0",
        "colab_type": "text"
      },
      "source": [
        "##A numpy array must have all items to be of the same data type, unlike lists. This is another significant difference.\n",
        "However, if you are uncertain about what datatype your array will hold or if you want to hold characters and numbers in the same array, you can set the dtype as 'object'."
      ]
    },
    {
      "cell_type": "code",
      "metadata": {
        "id": "yneFz1FdUGd8",
        "colab_type": "code",
        "outputId": "268285f6-6301-4988-8702-e05460d8e882",
        "colab": {
          "base_uri": "https://localhost:8080/",
          "height": 34
        }
      },
      "source": [
        "# Create a boolean array\n",
        "arr2d_b = np.array([1, 0, 10], dtype='bool')\n",
        "arr2d_b\n"
      ],
      "execution_count": 0,
      "outputs": [
        {
          "output_type": "execute_result",
          "data": {
            "text/plain": [
              "array([ True, False,  True])"
            ]
          },
          "metadata": {
            "tags": []
          },
          "execution_count": 4
        }
      ]
    },
    {
      "cell_type": "code",
      "metadata": {
        "id": "q53_lb7bUIVJ",
        "colab_type": "code",
        "outputId": "6673a0e1-3567-4e3f-b11f-9ee0c6ad567a",
        "colab": {
          "base_uri": "https://localhost:8080/",
          "height": 34
        }
      },
      "source": [
        "# Create an object array to hold numbers as well as strings\n",
        "arr1d_obj = np.array([1, 'a'], dtype='object')\n",
        "arr1d_obj\n"
      ],
      "execution_count": 0,
      "outputs": [
        {
          "output_type": "execute_result",
          "data": {
            "text/plain": [
              "array([1, 'a'], dtype=object)"
            ]
          },
          "metadata": {
            "tags": []
          },
          "execution_count": 9
        }
      ]
    },
    {
      "cell_type": "markdown",
      "metadata": {
        "id": "HVkzEeEAUL-0",
        "colab_type": "text"
      },
      "source": [
        "### Finally, you can always convert an array back to a python list using tolist().\n",
        "\n"
      ]
    },
    {
      "cell_type": "code",
      "metadata": {
        "id": "uymcBlwoUSRF",
        "colab_type": "code",
        "outputId": "60feef49-4e71-4a5e-b099-3cf6c6f2de6d",
        "colab": {
          "base_uri": "https://localhost:8080/",
          "height": 34
        }
      },
      "source": [
        "# Convert an array back to a list\n",
        "arr1d_obj.tolist()"
      ],
      "execution_count": 0,
      "outputs": [
        {
          "output_type": "execute_result",
          "data": {
            "text/plain": [
              "[1, 'a']"
            ]
          },
          "metadata": {
            "tags": []
          },
          "execution_count": 10
        }
      ]
    },
    {
      "cell_type": "markdown",
      "metadata": {
        "id": "5hUI4nHWUZa7",
        "colab_type": "text"
      },
      "source": [
        "## To summarise, the main differences with python lists are:\n",
        "\n",
        "### 1. Arrays support vectorised operations, while lists don’t.\n",
        "### 2. Once an array is created, you cannot change its size. You will have to create a new array or overwrite the existing one.\n",
        "### 3. Every array has one and only one dtype. All items in it should be of that dtype.\n",
        "### 4. An equivalent numpy array occupies much less space than a python list of lists."
      ]
    },
    {
      "cell_type": "markdown",
      "metadata": {
        "id": "_R2asQQuVFMI",
        "colab_type": "text"
      },
      "source": [
        "# 2.1 Inspect SIZE and  SHAPE of a numpy array"
      ]
    },
    {
      "cell_type": "code",
      "metadata": {
        "id": "SFY7dj0jUYm6",
        "colab_type": "code",
        "outputId": "c68efb4d-4159-45f5-c66e-b3a89da02082",
        "colab": {
          "base_uri": "https://localhost:8080/",
          "height": 68
        }
      },
      "source": [
        "import numpy as np\n",
        "# Create a 2d array with 3 rows and 4 columns\n",
        "list2 = [[1, 2, 3, 4],[3, 4, 5, 6], [5, 6, 7, 8]]\n",
        "arr2 = np.array(list2, dtype='float')\n",
        "arr2\n"
      ],
      "execution_count": 0,
      "outputs": [
        {
          "output_type": "execute_result",
          "data": {
            "text/plain": [
              "array([[1., 2., 3., 4.],\n",
              "       [3., 4., 5., 6.],\n",
              "       [5., 6., 7., 8.]])"
            ]
          },
          "metadata": {
            "tags": []
          },
          "execution_count": 2
        }
      ]
    },
    {
      "cell_type": "code",
      "metadata": {
        "id": "fw-cbJL9WKUL",
        "colab_type": "code",
        "outputId": "4f841979-666e-4d22-daea-59a28ab7ce96",
        "colab": {
          "base_uri": "https://localhost:8080/",
          "height": 84
        }
      },
      "source": [
        "# shape\n",
        "print('Shape: ', arr2.shape)\n",
        "\n",
        "# dtype\n",
        "print('Datatype: ', arr2.dtype)\n",
        "\n",
        "# size\n",
        "print('Size: ', arr2.size)\n",
        "\n",
        "# ndim\n",
        "print('Num Dimensions: ', arr2.ndim)"
      ],
      "execution_count": 0,
      "outputs": [
        {
          "output_type": "stream",
          "text": [
            "Shape:  (3, 4)\n",
            "Datatype:  float64\n",
            "Size:  12\n",
            "Num Dimensions:  2\n"
          ],
          "name": "stdout"
        }
      ]
    },
    {
      "cell_type": "markdown",
      "metadata": {
        "id": "q4_MjfviWca0",
        "colab_type": "text"
      },
      "source": [
        "# 2.2 Array Manipulation : \n",
        ">  ## Extract specific items from an array\n",
        "\n",
        "You can extract specific portions on an array using indexing starting with 0, something similar to how you would do with python lists.\n",
        "\n",
        "But unlike lists, numpy arrays can optionally accept as many parameters in the square brackets as there is number of dimensions.\n"
      ]
    },
    {
      "cell_type": "code",
      "metadata": {
        "id": "nEh8_RgkWwAQ",
        "colab_type": "code",
        "outputId": "4fcf6cdb-3007-47a0-964d-554d41fb166f",
        "colab": {
          "base_uri": "https://localhost:8080/",
          "height": 313
        }
      },
      "source": [
        "# Extract the first 2 rows and columns\n",
        "print(arr2)\n",
        "print(arr2[:3, :2])\n",
        "\n",
        "print(list2)\n",
        "list2[:2,:2]  # error"
      ],
      "execution_count": 0,
      "outputs": [
        {
          "output_type": "stream",
          "text": [
            "[[1. 2. 3. 4.]\n",
            " [3. 4. 5. 6.]\n",
            " [5. 6. 7. 8.]]\n",
            "[[1. 2.]\n",
            " [3. 4.]\n",
            " [5. 6.]]\n",
            "[[1, 2, 3, 4], [3, 4, 5, 6], [5, 6, 7, 8]]\n"
          ],
          "name": "stdout"
        },
        {
          "output_type": "error",
          "ename": "TypeError",
          "evalue": "ignored",
          "traceback": [
            "\u001b[0;31m---------------------------------------------------------------------------\u001b[0m",
            "\u001b[0;31mTypeError\u001b[0m                                 Traceback (most recent call last)",
            "\u001b[0;32m<ipython-input-18-e7bc73364d33>\u001b[0m in \u001b[0;36m<module>\u001b[0;34m()\u001b[0m\n\u001b[1;32m      3\u001b[0m \u001b[0;34m\u001b[0m\u001b[0m\n\u001b[1;32m      4\u001b[0m \u001b[0mprint\u001b[0m\u001b[0;34m(\u001b[0m\u001b[0mlist2\u001b[0m\u001b[0;34m)\u001b[0m\u001b[0;34m\u001b[0m\u001b[0;34m\u001b[0m\u001b[0m\n\u001b[0;32m----> 5\u001b[0;31m \u001b[0mlist2\u001b[0m\u001b[0;34m[\u001b[0m\u001b[0;34m:\u001b[0m\u001b[0;36m2\u001b[0m\u001b[0;34m,\u001b[0m\u001b[0;34m:\u001b[0m\u001b[0;36m2\u001b[0m\u001b[0;34m]\u001b[0m  \u001b[0;31m# error\u001b[0m\u001b[0;34m\u001b[0m\u001b[0;34m\u001b[0m\u001b[0m\n\u001b[0m",
            "\u001b[0;31mTypeError\u001b[0m: list indices must be integers or slices, not tuple"
          ]
        }
      ]
    },
    {
      "cell_type": "markdown",
      "metadata": {
        "id": "ZGa1TDw8XaHo",
        "colab_type": "text"
      },
      "source": [
        "### Additionally, numpy arrays support boolean indexing.\n"
      ]
    },
    {
      "cell_type": "code",
      "metadata": {
        "id": "CTnhFMQNXYXc",
        "colab_type": "code",
        "outputId": "4a8cf8f6-7be0-4c82-ffa0-3014a4541165",
        "colab": {
          "base_uri": "https://localhost:8080/",
          "height": 118
        }
      },
      "source": [
        "# Get the boolean output by applying the condition to each element.\n",
        "b = arr2 > 4\n",
        "print(arr2)\n",
        "\n",
        "print(b)"
      ],
      "execution_count": 0,
      "outputs": [
        {
          "output_type": "stream",
          "text": [
            "[[1. 2. 3. 4.]\n",
            " [3. 4. 5. 6.]\n",
            " [5. 6. 7. 8.]]\n",
            "[[False False False False]\n",
            " [False False  True  True]\n",
            " [ True  True  True  True]]\n"
          ],
          "name": "stdout"
        }
      ]
    },
    {
      "cell_type": "code",
      "metadata": {
        "id": "9y9J4pFqXhoK",
        "colab_type": "code",
        "outputId": "991637d4-8c85-4117-fd2b-c0f9905e5eb7",
        "colab": {
          "base_uri": "https://localhost:8080/",
          "height": 34
        }
      },
      "source": [
        "arr2[b]"
      ],
      "execution_count": 0,
      "outputs": [
        {
          "output_type": "execute_result",
          "data": {
            "text/plain": [
              "array([5., 6., 5., 6., 7., 8.])"
            ]
          },
          "metadata": {
            "tags": []
          },
          "execution_count": 20
        }
      ]
    },
    {
      "cell_type": "markdown",
      "metadata": {
        "id": "CdxcPLkRX5xe",
        "colab_type": "text"
      },
      "source": [
        ">###  How to reverse the rows and the whole array?\n",
        "Reversing an array works like how you would do with lists, but you need to do for all the axes (dimensions) if you want a complete reversal."
      ]
    },
    {
      "cell_type": "code",
      "metadata": {
        "id": "HR0sdlUBYQCL",
        "colab_type": "code",
        "outputId": "803c6e62-14b2-4396-9d59-8a3a83a3b68d",
        "colab": {
          "base_uri": "https://localhost:8080/",
          "height": 419
        }
      },
      "source": [
        "# Reverse only the row positions\n",
        "print(arr2)\n",
        "\n",
        "import matplotlib.pyplot as plt\n",
        "plt.imshow(arr2)\n",
        "\n"
      ],
      "execution_count": 0,
      "outputs": [
        {
          "output_type": "stream",
          "text": [
            "[[1. 2. 3. 4.]\n",
            " [3. 4. 5. 6.]\n",
            " [5. 6. 7. 8.]]\n"
          ],
          "name": "stdout"
        },
        {
          "output_type": "execute_result",
          "data": {
            "text/plain": [
              "<matplotlib.image.AxesImage at 0x7f23aabd2438>"
            ]
          },
          "metadata": {
            "tags": []
          },
          "execution_count": 3
        },
        {
          "output_type": "display_data",
          "data": {
            "image/png": "[encoded data removed]",
            "text/plain": [
              "<Figure size 576x396 with 1 Axes>"
            ]
          },
          "metadata": {
            "tags": []
          }
        }
      ]
    },
    {
      "cell_type": "code",
      "metadata": {
        "id": "dPd4UhAqkPON",
        "colab_type": "code",
        "outputId": "868f5c1d-70bf-40e1-d6e1-7ae21fa4d06c",
        "colab": {
          "base_uri": "https://localhost:8080/",
          "height": 436
        }
      },
      "source": [
        "print(arr2.transpose())\n",
        "plt.imshow(arr2.transpose())"
      ],
      "execution_count": 0,
      "outputs": [
        {
          "output_type": "stream",
          "text": [
            "[[1. 3. 5.]\n",
            " [2. 4. 6.]\n",
            " [3. 5. 7.]\n",
            " [4. 6. 8.]]\n"
          ],
          "name": "stdout"
        },
        {
          "output_type": "execute_result",
          "data": {
            "text/plain": [
              "<matplotlib.image.AxesImage at 0x7f23a89b6be0>"
            ]
          },
          "metadata": {
            "tags": []
          },
          "execution_count": 8
        },
        {
          "output_type": "display_data",
          "data": {
            "image/png": "[encoded data removed]",
            "text/plain": [
              "<Figure size 576x396 with 1 Axes>"
            ]
          },
          "metadata": {
            "tags": []
          }
        }
      ]
    },
    {
      "cell_type": "code",
      "metadata": {
        "id": "WzP8jpaxZuhd",
        "colab_type": "code",
        "outputId": "92a9d1d9-74c2-4529-ec5f-44370d47abba",
        "colab": {
          "base_uri": "https://localhost:8080/",
          "height": 368
        }
      },
      "source": [
        "arr2[::-1, ]\n",
        "plt.imshow(arr2[:,::-1])"
      ],
      "execution_count": 0,
      "outputs": [
        {
          "output_type": "execute_result",
          "data": {
            "text/plain": [
              "<matplotlib.image.AxesImage at 0x7f23a8a28550>"
            ]
          },
          "metadata": {
            "tags": []
          },
          "execution_count": 10
        },
        {
          "output_type": "display_data",
          "data": {
            "image/png": "[encoded data removed]",
            "text/plain": [
              "<Figure size 576x396 with 1 Axes>"
            ]
          },
          "metadata": {
            "tags": []
          }
        }
      ]
    },
    {
      "cell_type": "code",
      "metadata": {
        "id": "l2Ye4KOsYWtQ",
        "colab_type": "code",
        "outputId": "b385aeb0-1252-45ce-f675-1b1a614002c9",
        "colab": {
          "base_uri": "https://localhost:8080/",
          "height": 67
        }
      },
      "source": [
        "# Reverse the row and column positions\n",
        "arr2[::-1, ::-1]"
      ],
      "execution_count": 0,
      "outputs": [
        {
          "output_type": "execute_result",
          "data": {
            "text/plain": [
              "array([[8., 7., 6., 5.],\n",
              "       [6., 5., 4., 3.],\n",
              "       [4., 3., 2., 1.]])"
            ]
          },
          "metadata": {
            "tags": []
          },
          "execution_count": 22
        }
      ]
    },
    {
      "cell_type": "markdown",
      "metadata": {
        "id": "iBWpFvMeYvIT",
        "colab_type": "text"
      },
      "source": [
        ">### How to represent missing values and infinite?\n",
        "\n",
        "Missing values can be represented using np.nan object, while np.inf represents infinite. Let’s place some in arr2d.\n",
        "\n"
      ]
    },
    {
      "cell_type": "code",
      "metadata": {
        "id": "uduCmPVSZFvW",
        "colab_type": "code",
        "outputId": "c9a81797-cb7a-4599-8096-6cdff7e24a5a",
        "colab": {
          "base_uri": "https://localhost:8080/",
          "height": 68
        }
      },
      "source": [
        "# Insert a nan and an inf\n",
        "arr2[1,1] = np.nan  # not a number\n",
        "arr2[1,2] = np.inf  # infinite\n",
        "arr2\n"
      ],
      "execution_count": 0,
      "outputs": [
        {
          "output_type": "execute_result",
          "data": {
            "text/plain": [
              "array([[ 1.,  2.,  3.,  4.],\n",
              "       [ 3., nan, inf,  6.],\n",
              "       [ 5.,  6.,  7.,  8.]])"
            ]
          },
          "metadata": {
            "tags": []
          },
          "execution_count": 19
        }
      ]
    },
    {
      "cell_type": "code",
      "metadata": {
        "id": "a3X2A35RZHbq",
        "colab_type": "code",
        "outputId": "ca6283fb-709d-4855-86c1-0b12493c68a8",
        "colab": {
          "base_uri": "https://localhost:8080/",
          "height": 221
        }
      },
      "source": [
        "# Replace nan and inf with -1. Don't use arr2 == np.nan\n",
        "print(np.isnan(arr2))\n",
        "print(np.isinf(arr2))\n",
        "\n",
        "missing_bool = np.isnan(arr2) | np.isinf(arr2)\n",
        "print(missing_bool)\n",
        "\n",
        "arr2[missing_bool] = -1  \n",
        "arr2"
      ],
      "execution_count": 0,
      "outputs": [
        {
          "output_type": "stream",
          "text": [
            "[[False False False False]\n",
            " [False  True False False]\n",
            " [False False False False]]\n",
            "[[False False False False]\n",
            " [False False  True False]\n",
            " [False False False False]]\n",
            "[[False False False False]\n",
            " [False  True  True False]\n",
            " [False False False False]]\n"
          ],
          "name": "stdout"
        },
        {
          "output_type": "execute_result",
          "data": {
            "text/plain": [
              "array([[ 1.,  2.,  3.,  4.],\n",
              "       [ 3., -1., -1.,  6.],\n",
              "       [ 5.,  6.,  7.,  8.]])"
            ]
          },
          "metadata": {
            "tags": []
          },
          "execution_count": 20
        }
      ]
    },
    {
      "cell_type": "markdown",
      "metadata": {
        "id": "JQNKHBJwZPHi",
        "colab_type": "text"
      },
      "source": [
        "> ### How to compute mean, min, max on the ndarray?\n",
        "The ndarray has the respective methods to compute this for the whole array.\n",
        "\n"
      ]
    },
    {
      "cell_type": "code",
      "metadata": {
        "id": "RohVidzzZXE6",
        "colab_type": "code",
        "outputId": "c9328d85-bf9a-4f27-b373-603305959932",
        "colab": {
          "base_uri": "https://localhost:8080/",
          "height": 68
        }
      },
      "source": [
        "# mean, max and min\n",
        "print(\"Mean value is: \", arr2.mean())\n",
        "print(\"Max value is: \", arr2.max())\n",
        "print(\"Min value is: \", arr2.min())"
      ],
      "execution_count": 0,
      "outputs": [
        {
          "output_type": "stream",
          "text": [
            "Mean value is:  3.5833333333333335\n",
            "Max value is:  8.0\n",
            "Min value is:  -1.0\n"
          ],
          "name": "stdout"
        }
      ]
    },
    {
      "cell_type": "markdown",
      "metadata": {
        "id": "ymc-nR6QZit3",
        "colab_type": "text"
      },
      "source": [
        "However, if you want to compute the minimum values row wise or column wise, use the np.amin version instead."
      ]
    },
    {
      "cell_type": "code",
      "metadata": {
        "id": "nNjcYtjlZlG2",
        "colab_type": "code",
        "outputId": "d8d7e366-6bab-46f3-b5bb-92232d73ba64",
        "colab": {
          "base_uri": "https://localhost:8080/",
          "height": 101
        }
      },
      "source": [
        "# Row wise and column wise min\n",
        "print(arr2)\n",
        "print(\"Column wise minimum: \", np.amin(arr2, axis=0))\n",
        "print(\"Row wise minimum: \", np.amin(arr2, axis=1))"
      ],
      "execution_count": 0,
      "outputs": [
        {
          "output_type": "stream",
          "text": [
            "[[1. 2. 3. 4.]\n",
            " [3. 4. 5. 6.]\n",
            " [5. 6. 7. 8.]]\n",
            "Column wise minimum:  [1. 2. 3. 4.]\n",
            "Row wise minimum:  [1. 3. 5.]\n"
          ],
          "name": "stdout"
        }
      ]
    },
    {
      "cell_type": "code",
      "metadata": {
        "id": "I76mmMNNZ-W8",
        "colab_type": "code",
        "outputId": "3763e04d-593e-4184-b0c6-0561a6712eb3",
        "colab": {
          "base_uri": "https://localhost:8080/",
          "height": 34
        }
      },
      "source": [
        "# Cumulative Sum\n",
        "np.cumsum(arr2)"
      ],
      "execution_count": 0,
      "outputs": [
        {
          "output_type": "execute_result",
          "data": {
            "text/plain": [
              "array([ 1.,  3.,  6., 10., 13., 12., 11., 17., 22., 28., 35., 43.])"
            ]
          },
          "metadata": {
            "tags": []
          },
          "execution_count": 23
        }
      ]
    },
    {
      "cell_type": "markdown",
      "metadata": {
        "id": "Qp53-5s1adT4",
        "colab_type": "text"
      },
      "source": [
        "> ### How to create a new array from an existing array?  (BY Value vs by Reference)\n",
        "\n",
        "If you just assign a portion of an array to another array, the new array you just created actually refers to the parent array in memory.\n",
        "\n",
        "### **That means, if you make any changes to the new array, it will reflect in the parent array as well.**\n",
        "\n",
        "So to avoid disturbing the parent array, you need to make a copy of it using copy(). All numpy arrays come with the copy() method."
      ]
    },
    {
      "cell_type": "code",
      "metadata": {
        "id": "adAnVgHeaxKq",
        "colab_type": "code",
        "outputId": "2f8a6239-5c26-4266-cb21-e1c40aad9cc2",
        "colab": {
          "base_uri": "https://localhost:8080/",
          "height": 118
        }
      },
      "source": [
        "# Assign portion of arr2 to arr2a. Doesn't really create a new array.\n",
        "arr2a = arr2[:2,:2]  \n",
        "print(arr2)\n",
        "arr2a[:2, :1] = 100  # 100 will reflect in arr2\n",
        "print(arr2)\n"
      ],
      "execution_count": 0,
      "outputs": [
        {
          "output_type": "stream",
          "text": [
            "[[1. 2. 3. 4.]\n",
            " [3. 4. 5. 6.]\n",
            " [5. 6. 7. 8.]]\n",
            "[[100.   2.   3.   4.]\n",
            " [100.   4.   5.   6.]\n",
            " [  5.   6.   7.   8.]]\n"
          ],
          "name": "stdout"
        }
      ]
    },
    {
      "cell_type": "code",
      "metadata": {
        "id": "CMRh8Hrga0IH",
        "colab_type": "code",
        "outputId": "9345484b-fd72-47f0-d8ed-aeb44043df6d",
        "colab": {
          "base_uri": "https://localhost:8080/",
          "height": 101
        }
      },
      "source": [
        "# Copy portion of arr2 to arr2b\n",
        "arr2b = arr2[:2, :2].copy()\n",
        "arr2b[:1, :1] = 101  # 101 will not reflect in arr2\n",
        "print(arr2b)\n",
        "print(arr2)\n"
      ],
      "execution_count": 0,
      "outputs": [
        {
          "output_type": "stream",
          "text": [
            "[[101.   2.]\n",
            " [100.   4.]]\n",
            "[[100.   2.   3.   4.]\n",
            " [100.   4.   5.   6.]\n",
            " [  5.   6.   7.   8.]]\n"
          ],
          "name": "stdout"
        }
      ]
    },
    {
      "cell_type": "markdown",
      "metadata": {
        "id": "PmO9zWnmbhBZ",
        "colab_type": "text"
      },
      "source": [
        " > ### Reshaping and Flattening Multidimensional arrays\n",
        "Reshaping is changing the arrangement of items so that shape of the array changes while maintaining the same number of dimensions.\n",
        "\n",
        "Flattening, however, will convert a multi-dimensional array to a flat 1d array. And not any other shape.\n",
        "\n",
        "First, let’s reshape the arr2 array from 3×4 to 4×3 shape."
      ]
    },
    {
      "cell_type": "code",
      "metadata": {
        "id": "zmy31ybfbpZo",
        "colab_type": "code",
        "outputId": "f9b16ed1-fd47-4c32-dcbe-47e8e4fd35de",
        "colab": {
          "base_uri": "https://localhost:8080/",
          "height": 235
        }
      },
      "source": [
        "# Reshape a 3x4 array to 4x3 array\n",
        "print(arr2)\n",
        "#print(arr2.reshape(4, 3))\n",
        "print(arr2.reshape(3,2,2))\n",
        "\n",
        "print(arr2.reshape(3,2,2)[1,:,:])\n"
      ],
      "execution_count": 0,
      "outputs": [
        {
          "output_type": "stream",
          "text": [
            "[[100.   2.   3.   4.]\n",
            " [100.   4.   5.   6.]\n",
            " [  5.   6.   7.   8.]]\n",
            "[[[100.   2.]\n",
            "  [  3.   4.]]\n",
            "\n",
            " [[100.   4.]\n",
            "  [  5.   6.]]\n",
            "\n",
            " [[  5.   6.]\n",
            "  [  7.   8.]]]\n",
            "[[100.   4.]\n",
            " [  5.   6.]]\n"
          ],
          "name": "stdout"
        }
      ]
    },
    {
      "cell_type": "markdown",
      "metadata": {
        "id": "q0y9B-3sb6fR",
        "colab_type": "text"
      },
      "source": [
        "> ### What is the difference between flatten() and ravel()?\n",
        "There are 2 popular ways to implement flattening. That is using the flatten() method and the other using the ravel() method.\n",
        "\n",
        "**The difference between ravel and flatten is, the new array created using ravel is actually a reference to the parent array**. **So, any changes to the new array will affect the parent as well. But is memory efficient since it does not create a copy**."
      ]
    },
    {
      "cell_type": "code",
      "metadata": {
        "id": "DfdnUi89b_0i",
        "colab_type": "code",
        "outputId": "60ec6f3d-8826-4675-b281-890925ae04cd",
        "colab": {
          "base_uri": "https://localhost:8080/",
          "height": 51
        }
      },
      "source": [
        "# Flatten it to a 1d array\n",
        "arr2.flatten()"
      ],
      "execution_count": 0,
      "outputs": [
        {
          "output_type": "execute_result",
          "data": {
            "text/plain": [
              "array([100.,   2.,   3.,   4.,   3.,  -1.,  -1.,   6.,   5.,   6.,   7.,\n",
              "         8.])"
            ]
          },
          "metadata": {
            "tags": []
          },
          "execution_count": 28
        }
      ]
    },
    {
      "cell_type": "code",
      "metadata": {
        "id": "ZiaYYsOQcnC_",
        "colab_type": "code",
        "colab": {}
      },
      "source": [
        ""
      ],
      "execution_count": 0,
      "outputs": []
    },
    {
      "cell_type": "code",
      "metadata": {
        "id": "44y1PiA9b55E",
        "colab_type": "code",
        "outputId": "3468ba0f-b5a8-4097-d754-c712277ffe9e",
        "colab": {
          "base_uri": "https://localhost:8080/",
          "height": 85
        }
      },
      "source": [
        "# Changing the flattened array does not change parent\n",
        "b1 = arr2.flatten() \n",
        "print(b1)\n",
        "b1[0] = 101  # changing b1 does not affect arr2\n",
        "arr2"
      ],
      "execution_count": 0,
      "outputs": [
        {
          "output_type": "stream",
          "text": [
            "[100.   2.   3.   4.   3.  -1.  -1.   6.   5.   6.   7.   8.]\n"
          ],
          "name": "stdout"
        },
        {
          "output_type": "execute_result",
          "data": {
            "text/plain": [
              "array([[100.,   2.,   3.,   4.],\n",
              "       [  3.,  -1.,  -1.,   6.],\n",
              "       [  5.,   6.,   7.,   8.]])"
            ]
          },
          "metadata": {
            "tags": []
          },
          "execution_count": 29
        }
      ]
    },
    {
      "cell_type": "code",
      "metadata": {
        "id": "MbDQlMRmcZjS",
        "colab_type": "code",
        "outputId": "a476051b-19df-4d69-ef7e-cb130b0d9677",
        "colab": {
          "base_uri": "https://localhost:8080/",
          "height": 68
        }
      },
      "source": [
        "# Changing the raveled array changes the parent also.\n",
        "b2 = arr2.ravel()  \n",
        "b2[0] = 101  # changing b2 changes arr2 also\n",
        "arr2"
      ],
      "execution_count": 0,
      "outputs": [
        {
          "output_type": "execute_result",
          "data": {
            "text/plain": [
              "array([[101.,   2.,   3.,   4.],\n",
              "       [  3.,  -1.,  -1.,   6.],\n",
              "       [  5.,   6.,   7.,   8.]])"
            ]
          },
          "metadata": {
            "tags": []
          },
          "execution_count": 30
        }
      ]
    },
    {
      "cell_type": "markdown",
      "metadata": {
        "id": "a3IwVy3Ldw8N",
        "colab_type": "text"
      },
      "source": [
        "## How to create sequences, repetitions and random numbers using numpy?\n",
        "The np.arange function comes handy to create customised number sequences as ndarray.\n",
        "\n"
      ]
    },
    {
      "cell_type": "code",
      "metadata": {
        "id": "WjRJm0aPdwmw",
        "colab_type": "code",
        "outputId": "ee9ab40d-af5a-4422-c761-270f730bfec7",
        "colab": {
          "base_uri": "https://localhost:8080/",
          "height": 85
        }
      },
      "source": [
        "# Lower limit is 0 be default\n",
        "print(np.arange(5))  \n",
        "\n",
        "# 0 to 9\n",
        "print(np.arange(0, 10))  \n",
        "\n",
        "# 0 to 9 with step of 2\n",
        "print(np.arange(0, 10, 2))  \n",
        "\n",
        "# 10 to 1, decreasing order\n",
        "print(np.arange(10, 0, -1))\n"
      ],
      "execution_count": 0,
      "outputs": [
        {
          "output_type": "stream",
          "text": [
            "[0 1 2 3 4]\n",
            "[0 1 2 3 4 5 6 7 8 9]\n",
            "[0 2 4 6 8]\n",
            "[10  9  8  7  6  5  4  3  2  1]\n"
          ],
          "name": "stdout"
        }
      ]
    },
    {
      "cell_type": "code",
      "metadata": {
        "id": "UIelUJqEblqy",
        "colab_type": "code",
        "colab": {}
      },
      "source": [
        ""
      ],
      "execution_count": 0,
      "outputs": []
    },
    {
      "cell_type": "code",
      "metadata": {
        "id": "YIEEvr_VeItN",
        "colab_type": "code",
        "outputId": "c9dff266-91de-41ca-caa0-37722acb1b2f",
        "colab": {
          "base_uri": "https://localhost:8080/",
          "height": 34
        }
      },
      "source": [
        "# Start at 1 and end at 50\n",
        "np.linspace(start=1, stop=50, num=10, dtype=int)\n",
        "\n",
        "#> array([ 1,  6, 11, 17, 22, 28, 33, 39, 44, 50])"
      ],
      "execution_count": 0,
      "outputs": [
        {
          "output_type": "execute_result",
          "data": {
            "text/plain": [
              "array([ 1,  6, 11, 17, 22, 28, 33, 39, 44, 50])"
            ]
          },
          "metadata": {
            "tags": []
          },
          "execution_count": 32
        }
      ]
    },
    {
      "cell_type": "code",
      "metadata": {
        "id": "MeQnATXaePzX",
        "colab_type": "code",
        "outputId": "b2bb51ec-933f-4e32-b1dd-7059a2762a49",
        "colab": {
          "base_uri": "https://localhost:8080/",
          "height": 67
        }
      },
      "source": [
        "# Start at 10^1 and end at 10^50\n",
        "np.logspace(start=2, stop=50, num=10, base=10) "
      ],
      "execution_count": 0,
      "outputs": [
        {
          "output_type": "execute_result",
          "data": {
            "text/plain": [
              "array([1.00000000e+02, 2.15443469e+07, 4.64158883e+12, 1.00000000e+18,\n",
              "       2.15443469e+23, 4.64158883e+28, 1.00000000e+34, 2.15443469e+39,\n",
              "       4.64158883e+44, 1.00000000e+50])"
            ]
          },
          "metadata": {
            "tags": []
          },
          "execution_count": 39
        }
      ]
    },
    {
      "cell_type": "markdown",
      "metadata": {
        "id": "lBT6LBfrebgI",
        "colab_type": "text"
      },
      "source": [
        "**The np.zeros and np.ones functions lets you create arrays of desired shape where all the items are either 0’s or 1’s.**"
      ]
    },
    {
      "cell_type": "code",
      "metadata": {
        "id": "F3TJ2BH1eg6V",
        "colab_type": "code",
        "outputId": "b1fe1977-8d0e-4e98-a3a6-8e5a82f3cdfc",
        "colab": {
          "base_uri": "https://localhost:8080/",
          "height": 51
        }
      },
      "source": [
        "np.zeros([2,2])"
      ],
      "execution_count": 0,
      "outputs": [
        {
          "output_type": "execute_result",
          "data": {
            "text/plain": [
              "array([[0., 0.],\n",
              "       [0., 0.]])"
            ]
          },
          "metadata": {
            "tags": []
          },
          "execution_count": 34
        }
      ]
    },
    {
      "cell_type": "code",
      "metadata": {
        "id": "jpfcIgk8eiSw",
        "colab_type": "code",
        "outputId": "971ca684-3d5d-4d80-84b1-a7d8844f348e",
        "colab": {
          "base_uri": "https://localhost:8080/",
          "height": 51
        }
      },
      "source": [
        "np.ones([2,2])\n"
      ],
      "execution_count": 0,
      "outputs": [
        {
          "output_type": "execute_result",
          "data": {
            "text/plain": [
              "array([[1., 1.],\n",
              "       [1., 1.]])"
            ]
          },
          "metadata": {
            "tags": []
          },
          "execution_count": 35
        }
      ]
    },
    {
      "cell_type": "markdown",
      "metadata": {
        "id": "mtGZ_yPXe0lL",
        "colab_type": "text"
      },
      "source": [
        "> ## How to generate random numbers?\n",
        "\n",
        "The random module provides nice functions to generate random numbers (and also statistical distributions) of any given shape."
      ]
    },
    {
      "cell_type": "code",
      "metadata": {
        "id": "EgJjP7hUe-yF",
        "colab_type": "code",
        "outputId": "fe8f8ebb-9440-42b6-f398-4786c8b45c44",
        "colab": {
          "base_uri": "https://localhost:8080/",
          "height": 204
        }
      },
      "source": [
        "# Random numbers between [0,1) of shape 2,2\n",
        "print(np.random.rand(2,2))\n",
        "\n",
        "# Normal distribution with mean=0 and variance=1 of shape 2,2\n",
        "print(np.random.randn(2,2))\n",
        "\n",
        "# Random integers between [0, 10) of shape 2,2\n",
        "print(np.random.randint(0, 10, size=[2,2]))\n",
        "\n",
        "# One random number between [0,1)\n",
        "print(np.random.random())\n",
        "\n",
        "# Random numbers between [0,1) of shape 2,2\n",
        "print(np.random.random(size=[2,2]))\n",
        "\n",
        "# Pick 10 items from a given list, with equal probability\n",
        "print(np.random.choice(['a', 'e', 'i', 'o', 'u'], size=10))  \n",
        "\n",
        "# Pick 10 items from a given list with a predefined probability 'p'\n",
        "print(np.random.choice(['a', 'e', 'i', 'o', 'u'], size=10, p=[0.3, .1, 0.1, 0.4, 0.1]))  # picks more o's"
      ],
      "execution_count": 0,
      "outputs": [
        {
          "output_type": "stream",
          "text": [
            "[[0.48712217 0.41261642]\n",
            " [0.9781724  0.28941684]]\n",
            "[[-2.26797107  1.19697836]\n",
            " [-0.82349953  0.72609953]]\n",
            "[[4 5]\n",
            " [5 5]]\n",
            "0.5673397283478655\n",
            "[[0.10290669 0.88755262]\n",
            " [0.2490148  0.73238712]]\n",
            "['u' 'u' 'u' 'o' 'i' 'a' 'e' 'e' 'i' 'i']\n",
            "['o' 'o' 'a' 'a' 'a' 'a' 'a' 'e' 'a' 'e']\n"
          ],
          "name": "stdout"
        }
      ]
    },
    {
      "cell_type": "markdown",
      "metadata": {
        "id": "ajvAp5ZwfwMY",
        "colab_type": "text"
      },
      "source": [
        "If you want to repeat the same set of random numbers every time, you need to set the seed or the random state. The see can be any value. The only requirement is you must set the seed to the same value every time you want to generate the same set of random numbers."
      ]
    },
    {
      "cell_type": "code",
      "metadata": {
        "id": "mCdjMt-4fyqv",
        "colab_type": "code",
        "colab": {}
      },
      "source": [
        "# Create the random state\n",
        "rn = np.random.RandomState(100)\n",
        "\n",
        "# Create random numbers between [0,1) of shape 2,2\n",
        "print(rn.rand(2,2))"
      ],
      "execution_count": 0,
      "outputs": []
    },
    {
      "cell_type": "code",
      "metadata": {
        "id": "0No-3IAif0Is",
        "colab_type": "code",
        "colab": {}
      },
      "source": [
        "# Set the random seed\n",
        "np.random.seed(100)\n",
        "\n",
        "# Create random numbers between [0,1) of shape 2,2\n",
        "print(np.random.rand(2,2))"
      ],
      "execution_count": 0,
      "outputs": []
    },
    {
      "cell_type": "markdown",
      "metadata": {
        "id": "hatJspWjf8pT",
        "colab_type": "text"
      },
      "source": [
        "## How to get the unique items and the counts?\n",
        "\n",
        "The np.unique method can be used to get the unique items. If you want the repetition counts of each item, set the return_counts parameter to True."
      ]
    },
    {
      "cell_type": "code",
      "metadata": {
        "id": "3ZGn8vzRgEY-",
        "colab_type": "code",
        "colab": {}
      },
      "source": [
        "# Create random integers of size 10 between [0,10)\n",
        "np.random.seed(100)\n",
        "arr_rand = np.random.randint(0, 10, size=10)\n",
        "print(arr_rand)"
      ],
      "execution_count": 0,
      "outputs": []
    },
    {
      "cell_type": "code",
      "metadata": {
        "id": "f3_XQlMqgHp0",
        "colab_type": "code",
        "colab": {}
      },
      "source": [
        "# Get the unique items and their counts\n",
        "uniqs, counts = np.unique(arr_rand, return_counts=True)\n",
        "print(\"Unique items : \", uniqs)\n",
        "print(\"Counts       : \", counts)"
      ],
      "execution_count": 0,
      "outputs": []
    }
  ]
}