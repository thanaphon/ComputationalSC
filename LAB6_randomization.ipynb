{
  "nbformat": 4,
  "nbformat_minor": 0,
  "metadata": {
    "colab": {
      "name": "LAB6 randomization",
      "version": "0.3.2",
      "provenance": [],
      "collapsed_sections": [],
      "include_colab_link": true
    },
    "kernelspec": {
      "name": "python3",
      "display_name": "Python 3"
    }
  },
  "cells": [
    {
      "cell_type": "markdown",
      "metadata": {
        "id": "view-in-github",
        "colab_type": "text"
      },
      "source": [
        "<a href=\"https://colab.research.google.com/github/thanaphon/ComputationalSC/blob/master/LAB6_randomization.ipynb\" target=\"_parent\"><img src=\"https://colab.research.google.com/assets/colab-badge.svg\" alt=\"Open In Colab\"/></a>"
      ]
    },
    {
      "cell_type": "markdown",
      "metadata": {
        "id": "JFUpacFVdx6n",
        "colab_type": "text"
      },
      "source": [
        "## ให้นักศึกษาเขียนชื่อ และรหัสนักศึกษาลงใน jupyter notebook\n",
        "\n",
        "## Name:  \n",
        "\n",
        "## StudentID: \n",
        "\n",
        "## Section: "
      ]
    },
    {
      "cell_type": "markdown",
      "metadata": {
        "id": "gprrUar2HqtB",
        "colab_type": "text"
      },
      "source": [
        "\n",
        "\n",
        "\n",
        "\n",
        "\n",
        "#  LAB6: Introduction to Monte carlo Method\n",
        "\n",
        "\n",
        "วัตถุประสงค์:\n",
        "\n",
        "1) learn how to create random number (Vectorizing) using Python\n",
        "\n",
        "2) learn how to create histrogram from samplings\n",
        "\n",
        "3) Introduction to Central limit Theorem\n",
        "\n",
        "4) understand the basics of monte carlo method\n",
        "\n",
        "\n",
        "---\n",
        "\n",
        "\n",
        "\n",
        "Definition:   https://en.wikipedia.org/wiki/Monte_Carlo_method\n",
        "\n",
        "วิธีการมอนติคาร์โล (หรือการทดลองของมอนติคาร์โล) เป็นอัลกอริทึมการคำนวณที่อาศัยการสุ่มตัวอย่างแบบสุ่มซ้ำเพื่อให้ได้ผลลัพธ์เป็นตัวเลข   แนวความคิดหลักก็คือการใช้การสุ่มเพื่อแก้ปัญหา แทนการแก้ปัญหาโดยตรง   วิธีการแก้ปัญหาในลักษณะนี้มีประโยชน์มาก เมื่อการแก้ปัญหาเเบบปกตินั้นยากหรือเป็นไปไม่ได้  ยกตัวอย่างเช่นการ integrate สำหรับ function ซึ่งมีขนาดหลายมิติ  การแก้สมการอาจจะยาก หรือทำไม่ได้  \n",
        "\n",
        "วิธีการมอนติคาร์โลส่วนใหญ่จะใช้กับปัญหาหลัก  ๆ  3  แบบ:   1) Optimization   2) Numerical Integration  3) Generating draws from a    probability distrubution \n",
        "\n",
        "ในแล็ปนี้นักศึกษาจะได้เรียนรู้ ปัญหาแบบที่ 2 ที่เรานำเอา Monte carlo method มาใช้ในการ integrate  \n",
        "\n"
      ]
    },
    {
      "cell_type": "markdown",
      "metadata": {
        "id": "hqZvW-D-IuxA",
        "colab_type": "text"
      },
      "source": [
        "สมมติว่า นักศึกษามีกระดาษ สี่เหลี่ยมผืนผ้าขนาด 10 X 10 unit โดยทำการ แบ่งกระดาษออกเป็นพื้นที่สีฟ้า  x = [ 0 -  5 ] , y = [ 0 - 4  ]   และพื้นที่สีเทาคือพื้นที่ส่วนที่เหลือ\n",
        "\n",
        "\n",
        "### 1.1) โดยเฉลี่ยแล้วจำนวนจุดที่ random แบบ uniform [0 , 10  ] x [ 0, 10 ] ขึ้นมา N จุด   จะมีประมาณกีจุดที่ตกอยู่ในพื้นที่สีฟ้า ? \n",
        "\n"
      ]
    },
    {
      "cell_type": "markdown",
      "metadata": {
        "id": "zLM-y1WlRADk",
        "colab_type": "text"
      },
      "source": [
        "ตอบ:\n",
        "\n",
        "\n",
        "\n",
        "\n",
        "\n",
        "\n",
        "\n",
        "\n",
        "\n",
        "\n",
        "\n",
        "\n",
        "\n",
        "\n",
        "---------------"
      ]
    },
    {
      "cell_type": "markdown",
      "metadata": {
        "id": "Hcv-K5E2Q-TY",
        "colab_type": "text"
      },
      "source": [
        "### 1.2) ให้นักศึกษาเขียนโปรแกรม เพื่อทำการทดลอง random สุ่ม coordinate x,y    ออกมาจำนวน  N ค่า แล้วทำการนับจำนวนที่ตกอยู่ในพื้นที่สีฟ้า "
      ]
    },
    {
      "cell_type": "markdown",
      "metadata": {
        "id": "aaAnMxADVOpW",
        "colab_type": "text"
      },
      "source": [
        "ในขั้นต้นให้นักศึกษา ทดลอง plot จุดแบบ random จำนวน N = 20 จุดลงบนพื้นที่ดังกล่าว เพื่อทำความเข้าใจกับลักษณะของการทดลอง"
      ]
    },
    {
      "cell_type": "code",
      "metadata": {
        "id": "x0YE_PH9IuVG",
        "colab_type": "code",
        "outputId": "990b39a0-e7c9-432c-cc9f-de71c6832948",
        "colab": {
          "base_uri": "https://localhost:8080/",
          "height": 419
        }
      },
      "source": [
        "import numpy as np\n",
        "import matplotlib.pyplot as plt\n",
        "\n",
        "\n",
        "plt.figure()\n",
        "plt.xlim(0, 10)\n",
        "plt.ylim(0, 10)\n",
        "\n",
        "#https://matplotlib.org/api/_as_gen/matplotlib.axes.Axes.axhspan.html\n",
        "#axhspan(ymin, ymax, xmin=0, xmax=1, **kwargs) \n",
        "plt.axhspan(0, 4,0,0.5 ,facecolor='b', alpha=0.5)\n",
        "\n",
        "# Add your code here \n",
        "\n",
        "\n",
        "\n",
        "plt.show()"
      ],
      "execution_count": 0,
      "outputs": [
        {
          "output_type": "stream",
          "text": [
            "[[4.56447142 4.77329834 3.21368516 6.60130436 3.40022105 4.63542024\n",
            "  1.27484802 5.25175414 8.46058145 3.90376665]\n",
            " [7.25543295 3.72448024 2.04622838 1.05465168 2.3301669  8.19420157\n",
            "  8.21775757 8.33111955 0.4983636  5.65674938]]\n"
          ],
          "name": "stdout"
        },
        {
          "output_type": "display_data",
          "data": {
            "image/png": "[encoded data removed]",
            "text/plain": [
              "<Figure size 576x396 with 1 Axes>"
            ]
          },
          "metadata": {
            "tags": []
          }
        }
      ]
    },
    {
      "cell_type": "markdown",
      "metadata": {
        "id": "C39OWD_FZmdM",
        "colab_type": "text"
      },
      "source": [
        "### 1.3) ให้นักศึกษาบันทึกจำนวนของจุดที่ตกอยู่ในพื้นที่สีฟ้า  เมื่อทำการทดลองข้างต้นเป็นจำนวน 100 ครั้ง   แล้วทำการ plot histrogram ของค่าที่ได้จากการทดลอง  (Central Limit Theorem) \n",
        "\n",
        "นักศึกษาสามารถสั่ง plot histrogram ของข้อมูลโดยอาศัยคำสั่ง  plt.hist(x ,bins = 20)   เมื่อ x คือ array หรือ list ของข้อมูลจำนวนจุดที่ตกในพื้นที่สีฟ้า  Note: ให้นักศึกษาลองเปลี่ยน bin size ของการ plot  สังเกตุผลลัพธ์ของ histrogram\n",
        "\n",
        "https://matplotlib.org/api/_as_gen/matplotlib.pyplot.hist.html\n"
      ]
    },
    {
      "cell_type": "code",
      "metadata": {
        "id": "WSrAiGr-b5iE",
        "colab_type": "code",
        "colab": {}
      },
      "source": [
        "# ADD your code here \n",
        "\n",
        "\n",
        "\n"
      ],
      "execution_count": 0,
      "outputs": []
    },
    {
      "cell_type": "markdown",
      "metadata": {
        "id": "cLaDJ_Mgb_ne",
        "colab_type": "text"
      },
      "source": [
        "จากการ plot histrogram ของการทดลอง นักศึกษาสามารถสรุปลักษณะของ distribution ของข้อมูลได้อย่างไร  "
      ]
    },
    {
      "cell_type": "markdown",
      "metadata": {
        "id": "iGJKulzEcXkY",
        "colab_type": "text"
      },
      "source": [
        "ตอบ:\n",
        "\n",
        "\n",
        "\n",
        "\n",
        "\n",
        "----------------\n"
      ]
    },
    {
      "cell_type": "markdown",
      "metadata": {
        "id": "qjnPhly6c8cc",
        "colab_type": "text"
      },
      "source": [
        "### 1.4 ทำการ plot อัตราส่วนของจุดในพื้นที่สีฟ้า ต่อจำนวนจุดทั้งหมด สำหรับ  N  $\\in$ range( 100, 10000+1, 500 )    \n",
        "\n",
        "หรืออีกนัยหนึ่ง  ทำการ plot y = f(N)  เมื่อ f(N) = อัตราส่วนของจุดในพื้นที่สีฟ้า ต่อจำนวนจุดทั้งหมด"
      ]
    },
    {
      "cell_type": "code",
      "metadata": {
        "id": "dkjJp-dqHouc",
        "colab_type": "code",
        "colab": {}
      },
      "source": [
        "import numpy as np\n",
        "import matplotlib.pyplot as plt\n",
        "\n",
        "\n",
        "\n",
        "\n",
        "\n",
        "\n",
        "\n",
        "\n",
        "\n"
      ],
      "execution_count": 0,
      "outputs": []
    },
    {
      "cell_type": "markdown",
      "metadata": {
        "id": "RhAtyu7Zgrrg",
        "colab_type": "text"
      },
      "source": [
        "จากผลลัพธ์ของการ plot ที่ได้ นักศึกษาสามารถสรุปได้ว่าอย่างไร \n",
        "\n",
        "\n",
        "ตอบ:\n",
        "\n",
        "------\n"
      ]
    },
    {
      "cell_type": "markdown",
      "metadata": {
        "id": "GqLiYHHq7OzU",
        "colab_type": "text"
      },
      "source": [
        "##2. ในโจทย์ข้อนี้ นักศึกษาจะได้ทำการประมาณหาค่า $\\pi$  โดยอาศัยวิธีการ monte carlo  :"
      ]
    },
    {
      "cell_type": "markdown",
      "metadata": {
        "id": "3sB3sRkiiBqI",
        "colab_type": "text"
      },
      "source": [
        "จากแบบฝึกหัดข้างต้น  เราสามารถสังเกตุได้ว่าอัตราส่วนของพื้นที่ นั้นสอดคล้องกับอัตราส่วนของจำนวนของ samples ที่ตกอยู่ในแต่ละพื้นที่ของรูป   จากข้อสังเกตุนี้เราสามารถนำมาใช้ประมาณค่าของ $\\pi$ ได้ "
      ]
    },
    {
      "cell_type": "markdown",
      "metadata": {
        "id": "rGGStNEdjCjy",
        "colab_type": "text"
      },
      "source": [
        "ให้นักศึกษาออกแบบการทดลอง เพื่อประมาณค่าของ $\\pi$ โดยอาศัยวิธีการทาง Monte Carlo \n",
        "\n",
        "Hint:  พื้นที่ของรูปวงกลม = $\\pi r^2$"
      ]
    },
    {
      "cell_type": "markdown",
      "metadata": {
        "id": "OgNfRUnkjQ-K",
        "colab_type": "text"
      },
      "source": [
        "อธิบายอัลกอริทึมของนักศึกษา:\n",
        "\n",
        "ตอบ:\n",
        "\n",
        "\n",
        "-----"
      ]
    },
    {
      "cell_type": "code",
      "metadata": {
        "id": "t6Y62sZhj7RD",
        "colab_type": "code",
        "colab": {}
      },
      "source": [
        "#Implement Algorithm ของนักศึกษา"
      ],
      "execution_count": 0,
      "outputs": []
    },
    {
      "cell_type": "markdown",
      "metadata": {
        "id": "w_ECoJI9j7rq",
        "colab_type": "text"
      },
      "source": [
        "ค่า $\\pi$ ที่ประมาณได้นั้นใกล้เคียงกับค่าจริงมาก น้อยอย่างไร อะไรน่าจะเป็นตัวแปรที่กำหนดความคลาดเคลื่อน"
      ]
    },
    {
      "cell_type": "markdown",
      "metadata": {
        "id": "SeQpFVfgkm3T",
        "colab_type": "text"
      },
      "source": [
        "ตอบ \n",
        "\n",
        "---\n",
        "\n"
      ]
    }
  ]
}